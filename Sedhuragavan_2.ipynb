{
 "cells": [
  {
   "cell_type": "code",
   "execution_count": 4,
   "id": "c4c1e852-508e-491f-8909-47c2fb65360a",
   "metadata": {},
   "outputs": [],
   "source": [
    "import pandas as pd\n",
    "import numpy as np\n",
    "import matplotlib.pyplot as plt\n",
    "import seaborn as sns"
   ]
  },
  {
   "cell_type": "code",
   "execution_count": 5,
   "id": "0477794d-24dc-4634-ad29-09f89ce5b51a",
   "metadata": {},
   "outputs": [],
   "source": [
    "df1 = pd.read_csv('user_demographics.csv')\n",
    "df2 = pd.read_csv('User_product_purchase_details_p2.csv')"
   ]
  },
  {
   "cell_type": "code",
   "execution_count": 6,
   "id": "7d9f145b-b45a-4591-b0e2-e8673cd9f85c",
   "metadata": {},
   "outputs": [],
   "source": [
    "ds = pd.merge(df2,df1,right_on='User_ID',left_on='User_ID')"
   ]
  },
  {
   "cell_type": "code",
   "execution_count": 7,
   "id": "b106b965-c959-431d-9e9c-089b51d42f77",
   "metadata": {},
   "outputs": [
    {
     "data": {
      "text/html": [
       "<div>\n",
       "<style scoped>\n",
       "    .dataframe tbody tr th:only-of-type {\n",
       "        vertical-align: middle;\n",
       "    }\n",
       "\n",
       "    .dataframe tbody tr th {\n",
       "        vertical-align: top;\n",
       "    }\n",
       "\n",
       "    .dataframe thead th {\n",
       "        text-align: right;\n",
       "    }\n",
       "</style>\n",
       "<table border=\"1\" class=\"dataframe\">\n",
       "  <thead>\n",
       "    <tr style=\"text-align: right;\">\n",
       "      <th></th>\n",
       "      <th>User_ID</th>\n",
       "      <th>Product_ID</th>\n",
       "      <th>City_Category</th>\n",
       "      <th>Stay_In_Current_City_Years</th>\n",
       "      <th>Marital_Status</th>\n",
       "      <th>Product_Category_1</th>\n",
       "      <th>Product_Category_2</th>\n",
       "      <th>Product_Category_3</th>\n",
       "      <th>Purchase</th>\n",
       "      <th>Gender</th>\n",
       "      <th>Age</th>\n",
       "      <th>Occupation</th>\n",
       "    </tr>\n",
       "  </thead>\n",
       "  <tbody>\n",
       "    <tr>\n",
       "      <th>0</th>\n",
       "      <td>1000001</td>\n",
       "      <td>P00069042</td>\n",
       "      <td>A</td>\n",
       "      <td>2</td>\n",
       "      <td>0</td>\n",
       "      <td>3</td>\n",
       "      <td>NaN</td>\n",
       "      <td>NaN</td>\n",
       "      <td>8370</td>\n",
       "      <td>F</td>\n",
       "      <td>0-17</td>\n",
       "      <td>10</td>\n",
       "    </tr>\n",
       "    <tr>\n",
       "      <th>1</th>\n",
       "      <td>1000001</td>\n",
       "      <td>P00248942</td>\n",
       "      <td>A</td>\n",
       "      <td>2</td>\n",
       "      <td>0</td>\n",
       "      <td>1</td>\n",
       "      <td>6.0</td>\n",
       "      <td>14.0</td>\n",
       "      <td>15200</td>\n",
       "      <td>F</td>\n",
       "      <td>0-17</td>\n",
       "      <td>10</td>\n",
       "    </tr>\n",
       "    <tr>\n",
       "      <th>2</th>\n",
       "      <td>1000001</td>\n",
       "      <td>P00087842</td>\n",
       "      <td>A</td>\n",
       "      <td>2</td>\n",
       "      <td>0</td>\n",
       "      <td>12</td>\n",
       "      <td>NaN</td>\n",
       "      <td>NaN</td>\n",
       "      <td>1422</td>\n",
       "      <td>F</td>\n",
       "      <td>0-17</td>\n",
       "      <td>10</td>\n",
       "    </tr>\n",
       "    <tr>\n",
       "      <th>3</th>\n",
       "      <td>1000001</td>\n",
       "      <td>P00085442</td>\n",
       "      <td>A</td>\n",
       "      <td>2</td>\n",
       "      <td>0</td>\n",
       "      <td>12</td>\n",
       "      <td>14.0</td>\n",
       "      <td>NaN</td>\n",
       "      <td>1057</td>\n",
       "      <td>F</td>\n",
       "      <td>0-17</td>\n",
       "      <td>10</td>\n",
       "    </tr>\n",
       "    <tr>\n",
       "      <th>4</th>\n",
       "      <td>1000002</td>\n",
       "      <td>P00285442</td>\n",
       "      <td>C</td>\n",
       "      <td>4+</td>\n",
       "      <td>0</td>\n",
       "      <td>8</td>\n",
       "      <td>NaN</td>\n",
       "      <td>NaN</td>\n",
       "      <td>7969</td>\n",
       "      <td>M</td>\n",
       "      <td>55+</td>\n",
       "      <td>16</td>\n",
       "    </tr>\n",
       "  </tbody>\n",
       "</table>\n",
       "</div>"
      ],
      "text/plain": [
       "   User_ID Product_ID City_Category Stay_In_Current_City_Years  \\\n",
       "0  1000001  P00069042             A                          2   \n",
       "1  1000001  P00248942             A                          2   \n",
       "2  1000001  P00087842             A                          2   \n",
       "3  1000001  P00085442             A                          2   \n",
       "4  1000002  P00285442             C                         4+   \n",
       "\n",
       "   Marital_Status  Product_Category_1  Product_Category_2  Product_Category_3  \\\n",
       "0               0                   3                 NaN                 NaN   \n",
       "1               0                   1                 6.0                14.0   \n",
       "2               0                  12                 NaN                 NaN   \n",
       "3               0                  12                14.0                 NaN   \n",
       "4               0                   8                 NaN                 NaN   \n",
       "\n",
       "   Purchase Gender   Age  Occupation  \n",
       "0      8370      F  0-17          10  \n",
       "1     15200      F  0-17          10  \n",
       "2      1422      F  0-17          10  \n",
       "3      1057      F  0-17          10  \n",
       "4      7969      M   55+          16  "
      ]
     },
     "execution_count": 7,
     "metadata": {},
     "output_type": "execute_result"
    }
   ],
   "source": [
    "ds[:5]"
   ]
  },
  {
   "cell_type": "code",
   "execution_count": 8,
   "id": "38a9f1bc-36da-414d-b4e8-3e3866d2eecf",
   "metadata": {},
   "outputs": [],
   "source": [
    "#spliting the age range into int(age)\n",
    "\n",
    "ds['start']=ds['Age'].str.split('-').str[0]\n",
    "\n",
    "ds['end']=ds['Age'].str.split('-').str[1]\n",
    " \n",
    "#+ is present so replace\n",
    "\n",
    "ds['start']=ds['start'].str.replace('+','',regex=False)\n",
    " \n",
    "#for null val in end of range replace with start \n",
    "\n",
    "ds['end']=ds['end'].fillna(ds['start'])\n",
    " \n",
    "#convert to int datatype\n",
    "\n",
    "ds['start']=ds['start'].astype(int)\n",
    "\n",
    "ds['end']=ds['end'].astype(int)\n",
    " \n",
    "#finding median\n",
    "\n",
    "ds['Age']=(ds['start']+ds['end'])/2\n",
    "\n",
    "#drop the temp col\n",
    "\n",
    "ds.drop(['start','end'],axis=1,inplace=True)\n",
    "\n",
    "ds[\"Age\"]=ds['Age'].astype(int)"
   ]
  },
  {
   "cell_type": "code",
   "execution_count": 9,
   "id": "aff5127e-f6cc-431e-93eb-58e7c288d419",
   "metadata": {},
   "outputs": [],
   "source": [
    "ds['Stay_In_Current_City_Years'] = ds['Stay_In_Current_City_Years'].str.rstrip('+')"
   ]
  },
  {
   "cell_type": "code",
   "execution_count": 10,
   "id": "473da5b0-8fc1-4ec7-a09e-5a02f3ab7029",
   "metadata": {},
   "outputs": [],
   "source": [
    "ds['Stay_In_Current_City_Years'] = ds['Stay_In_Current_City_Years'].astype(int)"
   ]
  },
  {
   "cell_type": "code",
   "execution_count": 11,
   "id": "c7d90f5b-0047-4aee-9fe1-54f5b9e4f6f3",
   "metadata": {},
   "outputs": [],
   "source": [
    "ds['Product_Category_2'] = ds['Product_Category_2'].fillna(0)"
   ]
  },
  {
   "cell_type": "code",
   "execution_count": 12,
   "id": "8a5418be-3096-4ff4-9143-79d0a070af03",
   "metadata": {},
   "outputs": [],
   "source": [
    "ds['Product_Category_2'] = ds['Product_Category_2'].astype(int)"
   ]
  },
  {
   "cell_type": "code",
   "execution_count": 13,
   "id": "0d08be2a-270a-4d2a-8ae4-835c7e7fd68b",
   "metadata": {},
   "outputs": [],
   "source": [
    "ds['Product_Category_3'] = ds['Product_Category_3'].fillna(0)"
   ]
  },
  {
   "cell_type": "code",
   "execution_count": 14,
   "id": "5c38a07e-925d-4540-83dc-8b6e92fe668e",
   "metadata": {},
   "outputs": [],
   "source": [
    "ds['Product_Category_3'] = ds['Product_Category_3'].astype(int)"
   ]
  },
  {
   "cell_type": "code",
   "execution_count": 15,
   "id": "65b67a75-08dd-4bce-a2a9-0c5879ff9b38",
   "metadata": {},
   "outputs": [],
   "source": [
    "ds = ds.drop(ds[ds['Age']<18].index)"
   ]
  },
  {
   "cell_type": "code",
   "execution_count": 16,
   "id": "c049c561-5486-4a40-a843-e66fa9cfe6c5",
   "metadata": {},
   "outputs": [],
   "source": [
    "ds['Product_Category'] = ds[['Product_Category_1','Product_Category_2','Product_Category_3']].sum(axis=1)"
   ]
  },
  {
   "cell_type": "code",
   "execution_count": 17,
   "id": "c9aff7c5-db58-4393-bfdd-9be1be019050",
   "metadata": {},
   "outputs": [],
   "source": [
    "ds = ds.drop(ds[['Product_Category_1','Product_Category_2','Product_Category_3']],axis=1)"
   ]
  },
  {
   "cell_type": "code",
   "execution_count": 18,
   "id": "f192fe6d-318f-45a5-bf91-ac0319d91284",
   "metadata": {},
   "outputs": [
    {
     "data": {
      "text/html": [
       "<div>\n",
       "<style scoped>\n",
       "    .dataframe tbody tr th:only-of-type {\n",
       "        vertical-align: middle;\n",
       "    }\n",
       "\n",
       "    .dataframe tbody tr th {\n",
       "        vertical-align: top;\n",
       "    }\n",
       "\n",
       "    .dataframe thead th {\n",
       "        text-align: right;\n",
       "    }\n",
       "</style>\n",
       "<table border=\"1\" class=\"dataframe\">\n",
       "  <thead>\n",
       "    <tr style=\"text-align: right;\">\n",
       "      <th></th>\n",
       "      <th>User_ID</th>\n",
       "      <th>Product_ID</th>\n",
       "      <th>City_Category</th>\n",
       "      <th>Stay_In_Current_City_Years</th>\n",
       "      <th>Marital_Status</th>\n",
       "      <th>Purchase</th>\n",
       "      <th>Gender</th>\n",
       "      <th>Age</th>\n",
       "      <th>Occupation</th>\n",
       "      <th>Product_Category</th>\n",
       "    </tr>\n",
       "  </thead>\n",
       "  <tbody>\n",
       "    <tr>\n",
       "      <th>4</th>\n",
       "      <td>1000002</td>\n",
       "      <td>P00285442</td>\n",
       "      <td>C</td>\n",
       "      <td>4</td>\n",
       "      <td>0</td>\n",
       "      <td>7969</td>\n",
       "      <td>M</td>\n",
       "      <td>55</td>\n",
       "      <td>16</td>\n",
       "      <td>8</td>\n",
       "    </tr>\n",
       "    <tr>\n",
       "      <th>5</th>\n",
       "      <td>1000003</td>\n",
       "      <td>P00193542</td>\n",
       "      <td>A</td>\n",
       "      <td>3</td>\n",
       "      <td>0</td>\n",
       "      <td>15227</td>\n",
       "      <td>M</td>\n",
       "      <td>30</td>\n",
       "      <td>15</td>\n",
       "      <td>3</td>\n",
       "    </tr>\n",
       "    <tr>\n",
       "      <th>6</th>\n",
       "      <td>1000004</td>\n",
       "      <td>P00184942</td>\n",
       "      <td>B</td>\n",
       "      <td>2</td>\n",
       "      <td>1</td>\n",
       "      <td>19215</td>\n",
       "      <td>M</td>\n",
       "      <td>48</td>\n",
       "      <td>7</td>\n",
       "      <td>26</td>\n",
       "    </tr>\n",
       "    <tr>\n",
       "      <th>7</th>\n",
       "      <td>1000004</td>\n",
       "      <td>P00346142</td>\n",
       "      <td>B</td>\n",
       "      <td>2</td>\n",
       "      <td>1</td>\n",
       "      <td>15854</td>\n",
       "      <td>M</td>\n",
       "      <td>48</td>\n",
       "      <td>7</td>\n",
       "      <td>16</td>\n",
       "    </tr>\n",
       "    <tr>\n",
       "      <th>8</th>\n",
       "      <td>1000004</td>\n",
       "      <td>P0097242</td>\n",
       "      <td>B</td>\n",
       "      <td>2</td>\n",
       "      <td>1</td>\n",
       "      <td>15686</td>\n",
       "      <td>M</td>\n",
       "      <td>48</td>\n",
       "      <td>7</td>\n",
       "      <td>17</td>\n",
       "    </tr>\n",
       "  </tbody>\n",
       "</table>\n",
       "</div>"
      ],
      "text/plain": [
       "   User_ID Product_ID City_Category  Stay_In_Current_City_Years  \\\n",
       "4  1000002  P00285442             C                           4   \n",
       "5  1000003  P00193542             A                           3   \n",
       "6  1000004  P00184942             B                           2   \n",
       "7  1000004  P00346142             B                           2   \n",
       "8  1000004   P0097242             B                           2   \n",
       "\n",
       "   Marital_Status  Purchase Gender  Age  Occupation  Product_Category  \n",
       "4               0      7969      M   55          16                 8  \n",
       "5               0     15227      M   30          15                 3  \n",
       "6               1     19215      M   48           7                26  \n",
       "7               1     15854      M   48           7                16  \n",
       "8               1     15686      M   48           7                17  "
      ]
     },
     "execution_count": 18,
     "metadata": {},
     "output_type": "execute_result"
    }
   ],
   "source": [
    "ds[:5]"
   ]
  },
  {
   "cell_type": "code",
   "execution_count": 19,
   "id": "3890c3e7-2aa8-4da6-9bcc-391ca177a885",
   "metadata": {},
   "outputs": [],
   "source": [
    "gender_num = {'M':1,'F':0}\n",
    "ds['Gender'] = ds['Gender'].map(gender_num)"
   ]
  },
  {
   "cell_type": "code",
   "execution_count": 20,
   "id": "6ed64bc2-415b-4730-93b9-4162146de40b",
   "metadata": {},
   "outputs": [],
   "source": [
    "city_cat = {'A':1,'B':2,'C':3}\n",
    "ds['City_Category'] = ds['City_Category'].map(city_cat)"
   ]
  },
  {
   "cell_type": "code",
   "execution_count": 21,
   "id": "3f9deb66-67f1-4fca-943e-da4ead00f21e",
   "metadata": {},
   "outputs": [],
   "source": [
    "x = ds.iloc[:,[2,3,4,6,7,8,5]]"
   ]
  },
  {
   "cell_type": "code",
   "execution_count": 22,
   "id": "65dfe929-f9cf-4834-8e2a-96e964e063fa",
   "metadata": {
    "scrolled": true
   },
   "outputs": [
    {
     "data": {
      "text/html": [
       "<div>\n",
       "<style scoped>\n",
       "    .dataframe tbody tr th:only-of-type {\n",
       "        vertical-align: middle;\n",
       "    }\n",
       "\n",
       "    .dataframe tbody tr th {\n",
       "        vertical-align: top;\n",
       "    }\n",
       "\n",
       "    .dataframe thead th {\n",
       "        text-align: right;\n",
       "    }\n",
       "</style>\n",
       "<table border=\"1\" class=\"dataframe\">\n",
       "  <thead>\n",
       "    <tr style=\"text-align: right;\">\n",
       "      <th></th>\n",
       "      <th>City_Category</th>\n",
       "      <th>Stay_In_Current_City_Years</th>\n",
       "      <th>Marital_Status</th>\n",
       "      <th>Gender</th>\n",
       "      <th>Age</th>\n",
       "      <th>Occupation</th>\n",
       "      <th>Purchase</th>\n",
       "    </tr>\n",
       "  </thead>\n",
       "  <tbody>\n",
       "    <tr>\n",
       "      <th>City_Category</th>\n",
       "      <td>1.000000</td>\n",
       "      <td>0.022326</td>\n",
       "      <td>0.049052</td>\n",
       "      <td>-0.007838</td>\n",
       "      <td>0.144111</td>\n",
       "      <td>0.035480</td>\n",
       "      <td>0.063579</td>\n",
       "    </tr>\n",
       "    <tr>\n",
       "      <th>Stay_In_Current_City_Years</th>\n",
       "      <td>0.022326</td>\n",
       "      <td>1.000000</td>\n",
       "      <td>-0.014514</td>\n",
       "      <td>0.014211</td>\n",
       "      <td>-0.008739</td>\n",
       "      <td>0.029771</td>\n",
       "      <td>0.005959</td>\n",
       "    </tr>\n",
       "    <tr>\n",
       "      <th>Marital_Status</th>\n",
       "      <td>0.049052</td>\n",
       "      <td>-0.014514</td>\n",
       "      <td>1.000000</td>\n",
       "      <td>-0.016950</td>\n",
       "      <td>0.289510</td>\n",
       "      <td>0.027196</td>\n",
       "      <td>-0.002060</td>\n",
       "    </tr>\n",
       "    <tr>\n",
       "      <th>Gender</th>\n",
       "      <td>-0.007838</td>\n",
       "      <td>0.014211</td>\n",
       "      <td>-0.016950</td>\n",
       "      <td>1.000000</td>\n",
       "      <td>-0.018560</td>\n",
       "      <td>0.119097</td>\n",
       "      <td>0.059282</td>\n",
       "    </tr>\n",
       "    <tr>\n",
       "      <th>Age</th>\n",
       "      <td>0.144111</td>\n",
       "      <td>-0.008739</td>\n",
       "      <td>0.289510</td>\n",
       "      <td>-0.018560</td>\n",
       "      <td>1.000000</td>\n",
       "      <td>0.107020</td>\n",
       "      <td>0.013374</td>\n",
       "    </tr>\n",
       "    <tr>\n",
       "      <th>Occupation</th>\n",
       "      <td>0.035480</td>\n",
       "      <td>0.029771</td>\n",
       "      <td>0.027196</td>\n",
       "      <td>0.119097</td>\n",
       "      <td>0.107020</td>\n",
       "      <td>1.000000</td>\n",
       "      <td>0.022024</td>\n",
       "    </tr>\n",
       "    <tr>\n",
       "      <th>Purchase</th>\n",
       "      <td>0.063579</td>\n",
       "      <td>0.005959</td>\n",
       "      <td>-0.002060</td>\n",
       "      <td>0.059282</td>\n",
       "      <td>0.013374</td>\n",
       "      <td>0.022024</td>\n",
       "      <td>1.000000</td>\n",
       "    </tr>\n",
       "  </tbody>\n",
       "</table>\n",
       "</div>"
      ],
      "text/plain": [
       "                            City_Category  Stay_In_Current_City_Years  \\\n",
       "City_Category                    1.000000                    0.022326   \n",
       "Stay_In_Current_City_Years       0.022326                    1.000000   \n",
       "Marital_Status                   0.049052                   -0.014514   \n",
       "Gender                          -0.007838                    0.014211   \n",
       "Age                              0.144111                   -0.008739   \n",
       "Occupation                       0.035480                    0.029771   \n",
       "Purchase                         0.063579                    0.005959   \n",
       "\n",
       "                            Marital_Status    Gender       Age  Occupation  \\\n",
       "City_Category                     0.049052 -0.007838  0.144111    0.035480   \n",
       "Stay_In_Current_City_Years       -0.014514  0.014211 -0.008739    0.029771   \n",
       "Marital_Status                    1.000000 -0.016950  0.289510    0.027196   \n",
       "Gender                           -0.016950  1.000000 -0.018560    0.119097   \n",
       "Age                               0.289510 -0.018560  1.000000    0.107020   \n",
       "Occupation                        0.027196  0.119097  0.107020    1.000000   \n",
       "Purchase                         -0.002060  0.059282  0.013374    0.022024   \n",
       "\n",
       "                            Purchase  \n",
       "City_Category               0.063579  \n",
       "Stay_In_Current_City_Years  0.005959  \n",
       "Marital_Status             -0.002060  \n",
       "Gender                      0.059282  \n",
       "Age                         0.013374  \n",
       "Occupation                  0.022024  \n",
       "Purchase                    1.000000  "
      ]
     },
     "execution_count": 22,
     "metadata": {},
     "output_type": "execute_result"
    }
   ],
   "source": [
    "x.corr()"
   ]
  },
  {
   "cell_type": "code",
   "execution_count": 23,
   "id": "832ebd6b-4eb0-4902-9302-448727f579c2",
   "metadata": {
    "scrolled": true
   },
   "outputs": [
    {
     "data": {
      "text/html": [
       "<div>\n",
       "<style scoped>\n",
       "    .dataframe tbody tr th:only-of-type {\n",
       "        vertical-align: middle;\n",
       "    }\n",
       "\n",
       "    .dataframe tbody tr th {\n",
       "        vertical-align: top;\n",
       "    }\n",
       "\n",
       "    .dataframe thead th {\n",
       "        text-align: right;\n",
       "    }\n",
       "</style>\n",
       "<table border=\"1\" class=\"dataframe\">\n",
       "  <thead>\n",
       "    <tr style=\"text-align: right;\">\n",
       "      <th></th>\n",
       "      <th>index</th>\n",
       "      <th>User_ID</th>\n",
       "      <th>Product_ID</th>\n",
       "      <th>City_Category</th>\n",
       "      <th>Stay_In_Current_City_Years</th>\n",
       "      <th>Marital_Status</th>\n",
       "      <th>Purchase</th>\n",
       "      <th>Gender</th>\n",
       "      <th>Age</th>\n",
       "      <th>Occupation</th>\n",
       "      <th>Product_Category</th>\n",
       "    </tr>\n",
       "  </thead>\n",
       "  <tbody>\n",
       "    <tr>\n",
       "      <th>0</th>\n",
       "      <td>4</td>\n",
       "      <td>1000002</td>\n",
       "      <td>P00285442</td>\n",
       "      <td>3</td>\n",
       "      <td>4</td>\n",
       "      <td>0</td>\n",
       "      <td>7969</td>\n",
       "      <td>1</td>\n",
       "      <td>55</td>\n",
       "      <td>16</td>\n",
       "      <td>8</td>\n",
       "    </tr>\n",
       "    <tr>\n",
       "      <th>1</th>\n",
       "      <td>5</td>\n",
       "      <td>1000003</td>\n",
       "      <td>P00193542</td>\n",
       "      <td>1</td>\n",
       "      <td>3</td>\n",
       "      <td>0</td>\n",
       "      <td>15227</td>\n",
       "      <td>1</td>\n",
       "      <td>30</td>\n",
       "      <td>15</td>\n",
       "      <td>3</td>\n",
       "    </tr>\n",
       "    <tr>\n",
       "      <th>2</th>\n",
       "      <td>6</td>\n",
       "      <td>1000004</td>\n",
       "      <td>P00184942</td>\n",
       "      <td>2</td>\n",
       "      <td>2</td>\n",
       "      <td>1</td>\n",
       "      <td>19215</td>\n",
       "      <td>1</td>\n",
       "      <td>48</td>\n",
       "      <td>7</td>\n",
       "      <td>26</td>\n",
       "    </tr>\n",
       "    <tr>\n",
       "      <th>3</th>\n",
       "      <td>7</td>\n",
       "      <td>1000004</td>\n",
       "      <td>P00346142</td>\n",
       "      <td>2</td>\n",
       "      <td>2</td>\n",
       "      <td>1</td>\n",
       "      <td>15854</td>\n",
       "      <td>1</td>\n",
       "      <td>48</td>\n",
       "      <td>7</td>\n",
       "      <td>16</td>\n",
       "    </tr>\n",
       "    <tr>\n",
       "      <th>4</th>\n",
       "      <td>8</td>\n",
       "      <td>1000004</td>\n",
       "      <td>P0097242</td>\n",
       "      <td>2</td>\n",
       "      <td>2</td>\n",
       "      <td>1</td>\n",
       "      <td>15686</td>\n",
       "      <td>1</td>\n",
       "      <td>48</td>\n",
       "      <td>7</td>\n",
       "      <td>17</td>\n",
       "    </tr>\n",
       "    <tr>\n",
       "      <th>...</th>\n",
       "      <td>...</td>\n",
       "      <td>...</td>\n",
       "      <td>...</td>\n",
       "      <td>...</td>\n",
       "      <td>...</td>\n",
       "      <td>...</td>\n",
       "      <td>...</td>\n",
       "      <td>...</td>\n",
       "      <td>...</td>\n",
       "      <td>...</td>\n",
       "      <td>...</td>\n",
       "    </tr>\n",
       "    <tr>\n",
       "      <th>534961</th>\n",
       "      <td>550063</td>\n",
       "      <td>1006033</td>\n",
       "      <td>P00372445</td>\n",
       "      <td>2</td>\n",
       "      <td>1</td>\n",
       "      <td>1</td>\n",
       "      <td>368</td>\n",
       "      <td>1</td>\n",
       "      <td>53</td>\n",
       "      <td>13</td>\n",
       "      <td>20</td>\n",
       "    </tr>\n",
       "    <tr>\n",
       "      <th>534962</th>\n",
       "      <td>550064</td>\n",
       "      <td>1006035</td>\n",
       "      <td>P00375436</td>\n",
       "      <td>3</td>\n",
       "      <td>3</td>\n",
       "      <td>0</td>\n",
       "      <td>371</td>\n",
       "      <td>0</td>\n",
       "      <td>30</td>\n",
       "      <td>1</td>\n",
       "      <td>20</td>\n",
       "    </tr>\n",
       "    <tr>\n",
       "      <th>534963</th>\n",
       "      <td>550065</td>\n",
       "      <td>1006036</td>\n",
       "      <td>P00375436</td>\n",
       "      <td>2</td>\n",
       "      <td>4</td>\n",
       "      <td>1</td>\n",
       "      <td>137</td>\n",
       "      <td>0</td>\n",
       "      <td>30</td>\n",
       "      <td>15</td>\n",
       "      <td>20</td>\n",
       "    </tr>\n",
       "    <tr>\n",
       "      <th>534964</th>\n",
       "      <td>550066</td>\n",
       "      <td>1006038</td>\n",
       "      <td>P00375436</td>\n",
       "      <td>3</td>\n",
       "      <td>2</td>\n",
       "      <td>0</td>\n",
       "      <td>365</td>\n",
       "      <td>0</td>\n",
       "      <td>55</td>\n",
       "      <td>1</td>\n",
       "      <td>20</td>\n",
       "    </tr>\n",
       "    <tr>\n",
       "      <th>534965</th>\n",
       "      <td>550067</td>\n",
       "      <td>1006039</td>\n",
       "      <td>P00371644</td>\n",
       "      <td>2</td>\n",
       "      <td>4</td>\n",
       "      <td>1</td>\n",
       "      <td>490</td>\n",
       "      <td>0</td>\n",
       "      <td>48</td>\n",
       "      <td>0</td>\n",
       "      <td>20</td>\n",
       "    </tr>\n",
       "  </tbody>\n",
       "</table>\n",
       "<p>534966 rows × 11 columns</p>\n",
       "</div>"
      ],
      "text/plain": [
       "         index  User_ID Product_ID  City_Category  Stay_In_Current_City_Years  \\\n",
       "0            4  1000002  P00285442              3                           4   \n",
       "1            5  1000003  P00193542              1                           3   \n",
       "2            6  1000004  P00184942              2                           2   \n",
       "3            7  1000004  P00346142              2                           2   \n",
       "4            8  1000004   P0097242              2                           2   \n",
       "...        ...      ...        ...            ...                         ...   \n",
       "534961  550063  1006033  P00372445              2                           1   \n",
       "534962  550064  1006035  P00375436              3                           3   \n",
       "534963  550065  1006036  P00375436              2                           4   \n",
       "534964  550066  1006038  P00375436              3                           2   \n",
       "534965  550067  1006039  P00371644              2                           4   \n",
       "\n",
       "        Marital_Status  Purchase  Gender  Age  Occupation  Product_Category  \n",
       "0                    0      7969       1   55          16                 8  \n",
       "1                    0     15227       1   30          15                 3  \n",
       "2                    1     19215       1   48           7                26  \n",
       "3                    1     15854       1   48           7                16  \n",
       "4                    1     15686       1   48           7                17  \n",
       "...                ...       ...     ...  ...         ...               ...  \n",
       "534961               1       368       1   53          13                20  \n",
       "534962               0       371       0   30           1                20  \n",
       "534963               1       137       0   30          15                20  \n",
       "534964               0       365       0   55           1                20  \n",
       "534965               1       490       0   48           0                20  \n",
       "\n",
       "[534966 rows x 11 columns]"
      ]
     },
     "execution_count": 23,
     "metadata": {},
     "output_type": "execute_result"
    }
   ],
   "source": [
    "ds.reset_index()"
   ]
  },
  {
   "cell_type": "code",
   "execution_count": 24,
   "id": "595f8086-2551-483c-b92a-49995b887713",
   "metadata": {},
   "outputs": [],
   "source": [
    "x = ds.iloc[:,[2,3,4,6,7,8]]"
   ]
  },
  {
   "cell_type": "code",
   "execution_count": 25,
   "id": "b79f5029-f53c-4e2e-8943-a676da804c30",
   "metadata": {},
   "outputs": [],
   "source": [
    "y = ds.iloc[:,5]"
   ]
  },
  {
   "cell_type": "code",
   "execution_count": 26,
   "id": "5d1406cf-1bcb-4f12-8828-1fbeafcf9b71",
   "metadata": {},
   "outputs": [
    {
     "data": {
      "text/plain": [
       "4     7969\n",
       "5    15227\n",
       "6    19215\n",
       "7    15854\n",
       "8    15686\n",
       "Name: Purchase, dtype: int64"
      ]
     },
     "execution_count": 26,
     "metadata": {},
     "output_type": "execute_result"
    }
   ],
   "source": [
    "y[:5]"
   ]
  },
  {
   "cell_type": "code",
   "execution_count": 65,
   "id": "f55c5c86-911a-4e92-b9f1-d4b215d03298",
   "metadata": {},
   "outputs": [],
   "source": [
    "from sklearn.ensemble import RandomForestRegressor\n",
    "from sklearn.metrics import mean_absolute_error, r2_score, precision_score, accuracy_score, mean_squared_error\n",
    "from sklearn.model_selection import train_test_split"
   ]
  },
  {
   "cell_type": "code",
   "execution_count": 28,
   "id": "7d2b0cba-cadd-43d5-9a99-0cb410ad1e54",
   "metadata": {},
   "outputs": [],
   "source": [
    "xtrain,xtest,ytrain,ytest = train_test_split(x,y,test_size=0.3,random_state=123)"
   ]
  },
  {
   "cell_type": "code",
   "execution_count": 29,
   "id": "8f19f1f5-82ca-4d59-bae6-2517c9fc8df5",
   "metadata": {},
   "outputs": [],
   "source": [
    "rf = RandomForestRegressor()"
   ]
  },
  {
   "cell_type": "code",
   "execution_count": 30,
   "id": "2e159b15-1d0a-4deb-8421-e0cd5f267e3b",
   "metadata": {},
   "outputs": [
    {
     "data": {
      "text/plain": [
       "290420     1956\n",
       "481851     6924\n",
       "416609    19489\n",
       "455075     7581\n",
       "32530      6144\n",
       "Name: Purchase, dtype: int64"
      ]
     },
     "execution_count": 30,
     "metadata": {},
     "output_type": "execute_result"
    }
   ],
   "source": [
    "ytrain[:5]"
   ]
  },
  {
   "cell_type": "code",
   "execution_count": 31,
   "id": "bb6deba5-1e0c-428a-85f0-317afa94377e",
   "metadata": {},
   "outputs": [],
   "source": [
    "model = rf.fit(xtrain,ytrain)"
   ]
  },
  {
   "cell_type": "code",
   "execution_count": 32,
   "id": "aa92f0d6-35bd-4349-b374-76dc3a3d86d1",
   "metadata": {},
   "outputs": [],
   "source": [
    "Pred = model.predict(xtest)"
   ]
  },
  {
   "cell_type": "code",
   "execution_count": 33,
   "id": "5cc9b4e4-a6ec-43b2-8699-ccd14885dad2",
   "metadata": {},
   "outputs": [
    {
     "data": {
      "text/plain": [
       "3938.156897689852"
      ]
     },
     "execution_count": 33,
     "metadata": {},
     "output_type": "execute_result"
    }
   ],
   "source": [
    "mean_absolute_error(ytest,Pred)"
   ]
  },
  {
   "cell_type": "code",
   "execution_count": 34,
   "id": "0d6c3ae0-5151-4e09-a0fe-ae65d5ae5ee4",
   "metadata": {},
   "outputs": [
    {
     "data": {
      "text/plain": [
       "0.04345247274101982"
      ]
     },
     "execution_count": 34,
     "metadata": {},
     "output_type": "execute_result"
    }
   ],
   "source": [
    "r2_score(ytest,Pred)"
   ]
  },
  {
   "cell_type": "code",
   "execution_count": null,
   "id": "c9d61b5b-b615-4459-8b55-30b29af7f4e8",
   "metadata": {},
   "outputs": [],
   "source": []
  },
  {
   "cell_type": "code",
   "execution_count": 35,
   "id": "225414b2-c794-4c83-af46-556cd3d0bbbe",
   "metadata": {},
   "outputs": [],
   "source": [
    "mean=ds['Purchase'].mean()\n",
    "def voucher(purchase):\n",
    "    if purchase > mean:\n",
    "         dis=purchase*0.25\n",
    "         return purchase-dis\n",
    "    else:\n",
    "        return purchase\n",
    "ds['After_discount']=ds['Purchase'].apply(voucher)"
   ]
  },
  {
   "cell_type": "code",
   "execution_count": 36,
   "id": "eefbf2d7-ca0d-4d42-8b38-a98ad6a0c1a6",
   "metadata": {},
   "outputs": [
    {
     "data": {
      "text/html": [
       "<div>\n",
       "<style scoped>\n",
       "    .dataframe tbody tr th:only-of-type {\n",
       "        vertical-align: middle;\n",
       "    }\n",
       "\n",
       "    .dataframe tbody tr th {\n",
       "        vertical-align: top;\n",
       "    }\n",
       "\n",
       "    .dataframe thead th {\n",
       "        text-align: right;\n",
       "    }\n",
       "</style>\n",
       "<table border=\"1\" class=\"dataframe\">\n",
       "  <thead>\n",
       "    <tr style=\"text-align: right;\">\n",
       "      <th></th>\n",
       "      <th>User_ID</th>\n",
       "      <th>Product_ID</th>\n",
       "      <th>City_Category</th>\n",
       "      <th>Stay_In_Current_City_Years</th>\n",
       "      <th>Marital_Status</th>\n",
       "      <th>Purchase</th>\n",
       "      <th>Gender</th>\n",
       "      <th>Age</th>\n",
       "      <th>Occupation</th>\n",
       "      <th>Product_Category</th>\n",
       "      <th>After_discount</th>\n",
       "    </tr>\n",
       "  </thead>\n",
       "  <tbody>\n",
       "    <tr>\n",
       "      <th>4</th>\n",
       "      <td>1000002</td>\n",
       "      <td>P00285442</td>\n",
       "      <td>3</td>\n",
       "      <td>4</td>\n",
       "      <td>0</td>\n",
       "      <td>7969</td>\n",
       "      <td>1</td>\n",
       "      <td>55</td>\n",
       "      <td>16</td>\n",
       "      <td>8</td>\n",
       "      <td>7969.00</td>\n",
       "    </tr>\n",
       "    <tr>\n",
       "      <th>5</th>\n",
       "      <td>1000003</td>\n",
       "      <td>P00193542</td>\n",
       "      <td>1</td>\n",
       "      <td>3</td>\n",
       "      <td>0</td>\n",
       "      <td>15227</td>\n",
       "      <td>1</td>\n",
       "      <td>30</td>\n",
       "      <td>15</td>\n",
       "      <td>3</td>\n",
       "      <td>11420.25</td>\n",
       "    </tr>\n",
       "    <tr>\n",
       "      <th>6</th>\n",
       "      <td>1000004</td>\n",
       "      <td>P00184942</td>\n",
       "      <td>2</td>\n",
       "      <td>2</td>\n",
       "      <td>1</td>\n",
       "      <td>19215</td>\n",
       "      <td>1</td>\n",
       "      <td>48</td>\n",
       "      <td>7</td>\n",
       "      <td>26</td>\n",
       "      <td>14411.25</td>\n",
       "    </tr>\n",
       "    <tr>\n",
       "      <th>7</th>\n",
       "      <td>1000004</td>\n",
       "      <td>P00346142</td>\n",
       "      <td>2</td>\n",
       "      <td>2</td>\n",
       "      <td>1</td>\n",
       "      <td>15854</td>\n",
       "      <td>1</td>\n",
       "      <td>48</td>\n",
       "      <td>7</td>\n",
       "      <td>16</td>\n",
       "      <td>11890.50</td>\n",
       "    </tr>\n",
       "    <tr>\n",
       "      <th>8</th>\n",
       "      <td>1000004</td>\n",
       "      <td>P0097242</td>\n",
       "      <td>2</td>\n",
       "      <td>2</td>\n",
       "      <td>1</td>\n",
       "      <td>15686</td>\n",
       "      <td>1</td>\n",
       "      <td>48</td>\n",
       "      <td>7</td>\n",
       "      <td>17</td>\n",
       "      <td>11764.50</td>\n",
       "    </tr>\n",
       "  </tbody>\n",
       "</table>\n",
       "</div>"
      ],
      "text/plain": [
       "   User_ID Product_ID  City_Category  Stay_In_Current_City_Years  \\\n",
       "4  1000002  P00285442              3                           4   \n",
       "5  1000003  P00193542              1                           3   \n",
       "6  1000004  P00184942              2                           2   \n",
       "7  1000004  P00346142              2                           2   \n",
       "8  1000004   P0097242              2                           2   \n",
       "\n",
       "   Marital_Status  Purchase  Gender  Age  Occupation  Product_Category  \\\n",
       "4               0      7969       1   55          16                 8   \n",
       "5               0     15227       1   30          15                 3   \n",
       "6               1     19215       1   48           7                26   \n",
       "7               1     15854       1   48           7                16   \n",
       "8               1     15686       1   48           7                17   \n",
       "\n",
       "   After_discount  \n",
       "4         7969.00  \n",
       "5        11420.25  \n",
       "6        14411.25  \n",
       "7        11890.50  \n",
       "8        11764.50  "
      ]
     },
     "execution_count": 36,
     "metadata": {},
     "output_type": "execute_result"
    }
   ],
   "source": [
    "ds[:5]"
   ]
  },
  {
   "cell_type": "code",
   "execution_count": 38,
   "id": "50177e50-e2e9-4f2c-bbd6-d3f9054574f5",
   "metadata": {},
   "outputs": [],
   "source": [
    "dj = ds.groupby('User_ID').agg({\n",
    "    'Stay_In_Current_City_Years': 'first',\n",
    "    'Purchase': 'sum',\n",
    "    'Age': 'first',\n",
    "    'Occupation': 'first',\n",
    "    'Product_Category': 'sum',\n",
    "    'After_discount': 'sum'\n",
    "}).reset_index()"
   ]
  },
  {
   "cell_type": "code",
   "execution_count": 39,
   "id": "72f81cf9-2b81-4038-accf-ac262af42e89",
   "metadata": {},
   "outputs": [
    {
     "data": {
      "text/html": [
       "<div>\n",
       "<style scoped>\n",
       "    .dataframe tbody tr th:only-of-type {\n",
       "        vertical-align: middle;\n",
       "    }\n",
       "\n",
       "    .dataframe tbody tr th {\n",
       "        vertical-align: top;\n",
       "    }\n",
       "\n",
       "    .dataframe thead th {\n",
       "        text-align: right;\n",
       "    }\n",
       "</style>\n",
       "<table border=\"1\" class=\"dataframe\">\n",
       "  <thead>\n",
       "    <tr style=\"text-align: right;\">\n",
       "      <th></th>\n",
       "      <th>User_ID</th>\n",
       "      <th>Stay_In_Current_City_Years</th>\n",
       "      <th>Purchase</th>\n",
       "      <th>Age</th>\n",
       "      <th>Occupation</th>\n",
       "      <th>Product_Category</th>\n",
       "      <th>After_discount</th>\n",
       "    </tr>\n",
       "  </thead>\n",
       "  <tbody>\n",
       "    <tr>\n",
       "      <th>0</th>\n",
       "      <td>1000002</td>\n",
       "      <td>4</td>\n",
       "      <td>810472</td>\n",
       "      <td>55</td>\n",
       "      <td>16</td>\n",
       "      <td>1252</td>\n",
       "      <td>661163.0</td>\n",
       "    </tr>\n",
       "    <tr>\n",
       "      <th>1</th>\n",
       "      <td>1000003</td>\n",
       "      <td>3</td>\n",
       "      <td>341635</td>\n",
       "      <td>30</td>\n",
       "      <td>15</td>\n",
       "      <td>358</td>\n",
       "      <td>277406.0</td>\n",
       "    </tr>\n",
       "    <tr>\n",
       "      <th>2</th>\n",
       "      <td>1000004</td>\n",
       "      <td>2</td>\n",
       "      <td>206468</td>\n",
       "      <td>48</td>\n",
       "      <td>7</td>\n",
       "      <td>262</td>\n",
       "      <td>155933.5</td>\n",
       "    </tr>\n",
       "    <tr>\n",
       "      <th>3</th>\n",
       "      <td>1000005</td>\n",
       "      <td>1</td>\n",
       "      <td>821001</td>\n",
       "      <td>30</td>\n",
       "      <td>20</td>\n",
       "      <td>1508</td>\n",
       "      <td>731065.5</td>\n",
       "    </tr>\n",
       "    <tr>\n",
       "      <th>4</th>\n",
       "      <td>1000006</td>\n",
       "      <td>1</td>\n",
       "      <td>379930</td>\n",
       "      <td>53</td>\n",
       "      <td>9</td>\n",
       "      <td>874</td>\n",
       "      <td>320093.0</td>\n",
       "    </tr>\n",
       "  </tbody>\n",
       "</table>\n",
       "</div>"
      ],
      "text/plain": [
       "   User_ID  Stay_In_Current_City_Years  Purchase  Age  Occupation  \\\n",
       "0  1000002                           4    810472   55          16   \n",
       "1  1000003                           3    341635   30          15   \n",
       "2  1000004                           2    206468   48           7   \n",
       "3  1000005                           1    821001   30          20   \n",
       "4  1000006                           1    379930   53           9   \n",
       "\n",
       "   Product_Category  After_discount  \n",
       "0              1252        661163.0  \n",
       "1               358        277406.0  \n",
       "2               262        155933.5  \n",
       "3              1508        731065.5  \n",
       "4               874        320093.0  "
      ]
     },
     "execution_count": 39,
     "metadata": {},
     "output_type": "execute_result"
    }
   ],
   "source": [
    "dj[:5]"
   ]
  },
  {
   "cell_type": "code",
   "execution_count": 40,
   "id": "aea38768-eb24-4e31-84ef-e9ccc64f16df",
   "metadata": {},
   "outputs": [],
   "source": [
    "import statsmodels.api as sm\n",
    "from statsmodels.formula.api import ols"
   ]
  },
  {
   "cell_type": "code",
   "execution_count": 46,
   "id": "b7c98d33-04fc-4761-a233-58eef2cdb00e",
   "metadata": {},
   "outputs": [],
   "source": [
    "model_sum = sm.OLS(y,x).fit()"
   ]
  },
  {
   "cell_type": "code",
   "execution_count": 47,
   "id": "93f66f05-3ebf-4a17-b13b-e882aa9e35bd",
   "metadata": {},
   "outputs": [
    {
     "name": "stdout",
     "output_type": "stream",
     "text": [
      "                                 OLS Regression Results                                \n",
      "=======================================================================================\n",
      "Dep. Variable:               Purchase   R-squared (uncentered):                   0.752\n",
      "Model:                            OLS   Adj. R-squared (uncentered):              0.752\n",
      "Method:                 Least Squares   F-statistic:                          2.697e+05\n",
      "Date:                Fri, 04 Oct 2024   Prob (F-statistic):                        0.00\n",
      "Time:                        16:31:26   Log-Likelihood:                     -5.3422e+06\n",
      "No. Observations:              534966   AIC:                                  1.068e+07\n",
      "Df Residuals:                  534960   BIC:                                  1.068e+07\n",
      "Df Model:                           6                                                  \n",
      "Covariance Type:            nonrobust                                                  \n",
      "==============================================================================================\n",
      "                                 coef    std err          t      P>|t|      [0.025      0.975]\n",
      "----------------------------------------------------------------------------------------------\n",
      "City_Category               1399.2950      8.513    164.377      0.000    1382.610    1415.980\n",
      "Stay_In_Current_City_Years   373.1243      5.335     69.936      0.000     362.667     383.581\n",
      "Marital_Status              -136.2085     15.204     -8.959      0.000    -166.008    -106.409\n",
      "Gender                      2052.8965     15.713    130.646      0.000    2022.099    2083.694\n",
      "Age                          103.6699      0.591    175.376      0.000     102.511     104.828\n",
      "Occupation                    39.0020      1.101     35.416      0.000      36.844      41.160\n",
      "==============================================================================\n",
      "Omnibus:                    19471.973   Durbin-Watson:                   1.513\n",
      "Prob(Omnibus):                  0.000   Jarque-Bera (JB):            20951.021\n",
      "Skew:                           0.470   Prob(JB):                         0.00\n",
      "Kurtosis:                       2.762   Cond. No.                         81.9\n",
      "==============================================================================\n",
      "\n",
      "Notes:\n",
      "[1] R² is computed without centering (uncentered) since the model does not contain a constant.\n",
      "[2] Standard Errors assume that the covariance matrix of the errors is correctly specified.\n"
     ]
    }
   ],
   "source": [
    "print(model_sum.summary())"
   ]
  },
  {
   "cell_type": "code",
   "execution_count": 48,
   "id": "b243b5cb-c05d-4006-ac32-cfe86a182eee",
   "metadata": {},
   "outputs": [
    {
     "data": {
      "text/html": [
       "<div>\n",
       "<style scoped>\n",
       "    .dataframe tbody tr th:only-of-type {\n",
       "        vertical-align: middle;\n",
       "    }\n",
       "\n",
       "    .dataframe tbody tr th {\n",
       "        vertical-align: top;\n",
       "    }\n",
       "\n",
       "    .dataframe thead th {\n",
       "        text-align: right;\n",
       "    }\n",
       "</style>\n",
       "<table border=\"1\" class=\"dataframe\">\n",
       "  <thead>\n",
       "    <tr style=\"text-align: right;\">\n",
       "      <th></th>\n",
       "      <th>User_ID</th>\n",
       "      <th>Stay_In_Current_City_Years</th>\n",
       "      <th>Purchase</th>\n",
       "      <th>Age</th>\n",
       "      <th>Occupation</th>\n",
       "      <th>Product_Category</th>\n",
       "      <th>After_discount</th>\n",
       "    </tr>\n",
       "  </thead>\n",
       "  <tbody>\n",
       "    <tr>\n",
       "      <th>0</th>\n",
       "      <td>1000002</td>\n",
       "      <td>4</td>\n",
       "      <td>810472</td>\n",
       "      <td>55</td>\n",
       "      <td>16</td>\n",
       "      <td>1252</td>\n",
       "      <td>661163.0</td>\n",
       "    </tr>\n",
       "    <tr>\n",
       "      <th>1</th>\n",
       "      <td>1000003</td>\n",
       "      <td>3</td>\n",
       "      <td>341635</td>\n",
       "      <td>30</td>\n",
       "      <td>15</td>\n",
       "      <td>358</td>\n",
       "      <td>277406.0</td>\n",
       "    </tr>\n",
       "    <tr>\n",
       "      <th>2</th>\n",
       "      <td>1000004</td>\n",
       "      <td>2</td>\n",
       "      <td>206468</td>\n",
       "      <td>48</td>\n",
       "      <td>7</td>\n",
       "      <td>262</td>\n",
       "      <td>155933.5</td>\n",
       "    </tr>\n",
       "    <tr>\n",
       "      <th>3</th>\n",
       "      <td>1000005</td>\n",
       "      <td>1</td>\n",
       "      <td>821001</td>\n",
       "      <td>30</td>\n",
       "      <td>20</td>\n",
       "      <td>1508</td>\n",
       "      <td>731065.5</td>\n",
       "    </tr>\n",
       "    <tr>\n",
       "      <th>4</th>\n",
       "      <td>1000006</td>\n",
       "      <td>1</td>\n",
       "      <td>379930</td>\n",
       "      <td>53</td>\n",
       "      <td>9</td>\n",
       "      <td>874</td>\n",
       "      <td>320093.0</td>\n",
       "    </tr>\n",
       "  </tbody>\n",
       "</table>\n",
       "</div>"
      ],
      "text/plain": [
       "   User_ID  Stay_In_Current_City_Years  Purchase  Age  Occupation  \\\n",
       "0  1000002                           4    810472   55          16   \n",
       "1  1000003                           3    341635   30          15   \n",
       "2  1000004                           2    206468   48           7   \n",
       "3  1000005                           1    821001   30          20   \n",
       "4  1000006                           1    379930   53           9   \n",
       "\n",
       "   Product_Category  After_discount  \n",
       "0              1252        661163.0  \n",
       "1               358        277406.0  \n",
       "2               262        155933.5  \n",
       "3              1508        731065.5  \n",
       "4               874        320093.0  "
      ]
     },
     "execution_count": 48,
     "metadata": {},
     "output_type": "execute_result"
    }
   ],
   "source": [
    "dj[:5]"
   ]
  },
  {
   "cell_type": "code",
   "execution_count": 50,
   "id": "f4f32f36-9b76-455e-b77a-5216e734bd2a",
   "metadata": {},
   "outputs": [],
   "source": [
    "x1 = dj.iloc[:,[1,3,5,6]]"
   ]
  },
  {
   "cell_type": "code",
   "execution_count": 51,
   "id": "a9d721d0-9344-4b08-823d-70d3370d1c72",
   "metadata": {},
   "outputs": [],
   "source": [
    "y1 = dj.iloc[:,2]"
   ]
  },
  {
   "cell_type": "code",
   "execution_count": 52,
   "id": "a55d8343-d9e4-4670-8762-ce8c4e6d4786",
   "metadata": {},
   "outputs": [
    {
     "data": {
      "text/plain": [
       "0    810472\n",
       "1    341635\n",
       "2    206468\n",
       "3    821001\n",
       "4    379930\n",
       "Name: Purchase, dtype: int64"
      ]
     },
     "execution_count": 52,
     "metadata": {},
     "output_type": "execute_result"
    }
   ],
   "source": [
    "y1[:5]"
   ]
  },
  {
   "cell_type": "code",
   "execution_count": 53,
   "id": "c5daf0e6-f154-4ede-914e-676b6cef04f0",
   "metadata": {},
   "outputs": [],
   "source": [
    "x_train,x_test,y_train,y_test = train_test_split(x1,y1,test_size=0.2,random_state=123)"
   ]
  },
  {
   "cell_type": "code",
   "execution_count": 54,
   "id": "50b1c661-43b7-4bfa-b5a3-530e493492b2",
   "metadata": {},
   "outputs": [],
   "source": [
    "from sklearn.tree import DecisionTreeRegressor"
   ]
  },
  {
   "cell_type": "code",
   "execution_count": 55,
   "id": "82ac5def-17af-48bb-ab88-6f276b1ff9b1",
   "metadata": {},
   "outputs": [],
   "source": [
    "dt = DecisionTreeRegressor()"
   ]
  },
  {
   "cell_type": "code",
   "execution_count": 56,
   "id": "021fa9e7-0931-49f0-80b7-12332ea4456b",
   "metadata": {},
   "outputs": [],
   "source": [
    "model_dt = dt.fit(x_train,y_train)"
   ]
  },
  {
   "cell_type": "code",
   "execution_count": 57,
   "id": "3261b0fd-ffd5-4534-9401-5dedd63ba78b",
   "metadata": {},
   "outputs": [],
   "source": [
    "Pred_dt = model_dt.predict(x_test)"
   ]
  },
  {
   "cell_type": "code",
   "execution_count": 58,
   "id": "565edce8-9764-4946-9600-461268dbb662",
   "metadata": {},
   "outputs": [
    {
     "data": {
      "text/plain": [
       "40400.73215859031"
      ]
     },
     "execution_count": 58,
     "metadata": {},
     "output_type": "execute_result"
    }
   ],
   "source": [
    "mean_absolute_error(y_test,Pred_dt)"
   ]
  },
  {
   "cell_type": "code",
   "execution_count": 59,
   "id": "aad3cdba-9a9d-40b7-8f79-7ea7b60361a6",
   "metadata": {},
   "outputs": [
    {
     "data": {
      "text/plain": [
       "0.9816535500111653"
      ]
     },
     "execution_count": 59,
     "metadata": {},
     "output_type": "execute_result"
    }
   ],
   "source": [
    "r2_score(y_test,Pred_dt)"
   ]
  },
  {
   "cell_type": "code",
   "execution_count": 60,
   "id": "69ae443c-1123-45d3-8ac3-d91b93f04ca6",
   "metadata": {},
   "outputs": [],
   "source": [
    "model_rf = rf.fit(x_train,y_train)"
   ]
  },
  {
   "cell_type": "code",
   "execution_count": 62,
   "id": "b08559b2-8ae9-4775-b96c-a6778c3f4bb2",
   "metadata": {},
   "outputs": [],
   "source": [
    "Pred_rf = model_rf.predict(x_test)"
   ]
  },
  {
   "cell_type": "code",
   "execution_count": 63,
   "id": "a0556241-5776-4bb5-a875-957d4aa95783",
   "metadata": {},
   "outputs": [
    {
     "data": {
      "text/plain": [
       "31013.15963876652"
      ]
     },
     "execution_count": 63,
     "metadata": {},
     "output_type": "execute_result"
    }
   ],
   "source": [
    "mean_absolute_error(y_test,Pred_rf)"
   ]
  },
  {
   "cell_type": "code",
   "execution_count": 64,
   "id": "09fab81e-571b-4336-9d9f-e9642f13a481",
   "metadata": {},
   "outputs": [
    {
     "data": {
      "text/plain": [
       "0.988088564931419"
      ]
     },
     "execution_count": 64,
     "metadata": {},
     "output_type": "execute_result"
    }
   ],
   "source": [
    "r2_score(y_test,Pred_rf)"
   ]
  },
  {
   "cell_type": "code",
   "execution_count": null,
   "id": "70ee134c-22db-4931-8651-c0dbfc4cad1c",
   "metadata": {},
   "outputs": [],
   "source": []
  }
 ],
 "metadata": {
  "kernelspec": {
   "display_name": "Python 3 (ipykernel)",
   "language": "python",
   "name": "python3"
  },
  "language_info": {
   "codemirror_mode": {
    "name": "ipython",
    "version": 3
   },
   "file_extension": ".py",
   "mimetype": "text/x-python",
   "name": "python",
   "nbconvert_exporter": "python",
   "pygments_lexer": "ipython3",
   "version": "3.12.4"
  }
 },
 "nbformat": 4,
 "nbformat_minor": 5
}
