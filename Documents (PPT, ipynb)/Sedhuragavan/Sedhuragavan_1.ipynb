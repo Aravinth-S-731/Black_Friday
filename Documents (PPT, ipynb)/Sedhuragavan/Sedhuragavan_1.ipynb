{
 "cells": [
  {
   "cell_type": "code",
   "execution_count": 84,
   "id": "68c230cd-4457-4da6-8e6c-9c3c36e26543",
   "metadata": {},
   "outputs": [],
   "source": [
    "import pandas as pd\n",
    "import numpy as np\n",
    "import matplotlib.pyplot as plt\n",
    "import seaborn as sns"
   ]
  },
  {
   "cell_type": "code",
   "execution_count": 85,
   "id": "102472ed-1318-4ecf-8ff0-eb278c427593",
   "metadata": {},
   "outputs": [],
   "source": [
    "df1 = pd.read_csv('user_demographics.csv')\n",
    "df2 = pd.read_csv('User_product_purchase_details_p2.csv')"
   ]
  },
  {
   "cell_type": "code",
   "execution_count": 86,
   "id": "117a55f4-abff-40c6-a0af-41c6a6f02bf4",
   "metadata": {},
   "outputs": [
    {
     "data": {
      "text/plain": [
       "(5891, 4)"
      ]
     },
     "execution_count": 86,
     "metadata": {},
     "output_type": "execute_result"
    }
   ],
   "source": [
    "df1.shape"
   ]
  },
  {
   "cell_type": "code",
   "execution_count": 87,
   "id": "22daf681-9892-4f93-9aeb-4db1a2c8a4cc",
   "metadata": {},
   "outputs": [
    {
     "data": {
      "text/plain": [
       "(550068, 9)"
      ]
     },
     "execution_count": 87,
     "metadata": {},
     "output_type": "execute_result"
    }
   ],
   "source": [
    "df2.shape"
   ]
  },
  {
   "cell_type": "code",
   "execution_count": 88,
   "id": "9ea6fdbb-bdfb-4c59-846a-b6c75733ed67",
   "metadata": {},
   "outputs": [
    {
     "data": {
      "text/html": [
       "<div>\n",
       "<style scoped>\n",
       "    .dataframe tbody tr th:only-of-type {\n",
       "        vertical-align: middle;\n",
       "    }\n",
       "\n",
       "    .dataframe tbody tr th {\n",
       "        vertical-align: top;\n",
       "    }\n",
       "\n",
       "    .dataframe thead th {\n",
       "        text-align: right;\n",
       "    }\n",
       "</style>\n",
       "<table border=\"1\" class=\"dataframe\">\n",
       "  <thead>\n",
       "    <tr style=\"text-align: right;\">\n",
       "      <th></th>\n",
       "      <th>User_ID</th>\n",
       "      <th>Product_ID</th>\n",
       "      <th>City_Category</th>\n",
       "      <th>Stay_In_Current_City_Years</th>\n",
       "      <th>Marital_Status</th>\n",
       "      <th>Product_Category_1</th>\n",
       "      <th>Product_Category_2</th>\n",
       "      <th>Product_Category_3</th>\n",
       "      <th>Purchase</th>\n",
       "    </tr>\n",
       "  </thead>\n",
       "  <tbody>\n",
       "    <tr>\n",
       "      <th>0</th>\n",
       "      <td>1000001</td>\n",
       "      <td>P00069042</td>\n",
       "      <td>A</td>\n",
       "      <td>2</td>\n",
       "      <td>0</td>\n",
       "      <td>3</td>\n",
       "      <td>NaN</td>\n",
       "      <td>NaN</td>\n",
       "      <td>8370</td>\n",
       "    </tr>\n",
       "    <tr>\n",
       "      <th>1</th>\n",
       "      <td>1000001</td>\n",
       "      <td>P00248942</td>\n",
       "      <td>A</td>\n",
       "      <td>2</td>\n",
       "      <td>0</td>\n",
       "      <td>1</td>\n",
       "      <td>6.0</td>\n",
       "      <td>14.0</td>\n",
       "      <td>15200</td>\n",
       "    </tr>\n",
       "    <tr>\n",
       "      <th>2</th>\n",
       "      <td>1000001</td>\n",
       "      <td>P00087842</td>\n",
       "      <td>A</td>\n",
       "      <td>2</td>\n",
       "      <td>0</td>\n",
       "      <td>12</td>\n",
       "      <td>NaN</td>\n",
       "      <td>NaN</td>\n",
       "      <td>1422</td>\n",
       "    </tr>\n",
       "    <tr>\n",
       "      <th>3</th>\n",
       "      <td>1000001</td>\n",
       "      <td>P00085442</td>\n",
       "      <td>A</td>\n",
       "      <td>2</td>\n",
       "      <td>0</td>\n",
       "      <td>12</td>\n",
       "      <td>14.0</td>\n",
       "      <td>NaN</td>\n",
       "      <td>1057</td>\n",
       "    </tr>\n",
       "    <tr>\n",
       "      <th>4</th>\n",
       "      <td>1000002</td>\n",
       "      <td>P00285442</td>\n",
       "      <td>C</td>\n",
       "      <td>4+</td>\n",
       "      <td>0</td>\n",
       "      <td>8</td>\n",
       "      <td>NaN</td>\n",
       "      <td>NaN</td>\n",
       "      <td>7969</td>\n",
       "    </tr>\n",
       "  </tbody>\n",
       "</table>\n",
       "</div>"
      ],
      "text/plain": [
       "   User_ID Product_ID City_Category Stay_In_Current_City_Years  \\\n",
       "0  1000001  P00069042             A                          2   \n",
       "1  1000001  P00248942             A                          2   \n",
       "2  1000001  P00087842             A                          2   \n",
       "3  1000001  P00085442             A                          2   \n",
       "4  1000002  P00285442             C                         4+   \n",
       "\n",
       "   Marital_Status  Product_Category_1  Product_Category_2  Product_Category_3  \\\n",
       "0               0                   3                 NaN                 NaN   \n",
       "1               0                   1                 6.0                14.0   \n",
       "2               0                  12                 NaN                 NaN   \n",
       "3               0                  12                14.0                 NaN   \n",
       "4               0                   8                 NaN                 NaN   \n",
       "\n",
       "   Purchase  \n",
       "0      8370  \n",
       "1     15200  \n",
       "2      1422  \n",
       "3      1057  \n",
       "4      7969  "
      ]
     },
     "execution_count": 88,
     "metadata": {},
     "output_type": "execute_result"
    }
   ],
   "source": [
    "df2[:5]"
   ]
  },
  {
   "cell_type": "code",
   "execution_count": 89,
   "id": "2766990a-4df5-4f67-86d1-d8c016f721b9",
   "metadata": {},
   "outputs": [
    {
     "data": {
      "text/html": [
       "<div>\n",
       "<style scoped>\n",
       "    .dataframe tbody tr th:only-of-type {\n",
       "        vertical-align: middle;\n",
       "    }\n",
       "\n",
       "    .dataframe tbody tr th {\n",
       "        vertical-align: top;\n",
       "    }\n",
       "\n",
       "    .dataframe thead th {\n",
       "        text-align: right;\n",
       "    }\n",
       "</style>\n",
       "<table border=\"1\" class=\"dataframe\">\n",
       "  <thead>\n",
       "    <tr style=\"text-align: right;\">\n",
       "      <th></th>\n",
       "      <th>User_ID</th>\n",
       "      <th>Gender</th>\n",
       "      <th>Age</th>\n",
       "      <th>Occupation</th>\n",
       "    </tr>\n",
       "  </thead>\n",
       "  <tbody>\n",
       "    <tr>\n",
       "      <th>0</th>\n",
       "      <td>1000001</td>\n",
       "      <td>F</td>\n",
       "      <td>0-17</td>\n",
       "      <td>10</td>\n",
       "    </tr>\n",
       "    <tr>\n",
       "      <th>1</th>\n",
       "      <td>1000002</td>\n",
       "      <td>M</td>\n",
       "      <td>55+</td>\n",
       "      <td>16</td>\n",
       "    </tr>\n",
       "    <tr>\n",
       "      <th>2</th>\n",
       "      <td>1000003</td>\n",
       "      <td>M</td>\n",
       "      <td>26-35</td>\n",
       "      <td>15</td>\n",
       "    </tr>\n",
       "    <tr>\n",
       "      <th>3</th>\n",
       "      <td>1000004</td>\n",
       "      <td>M</td>\n",
       "      <td>46-50</td>\n",
       "      <td>7</td>\n",
       "    </tr>\n",
       "    <tr>\n",
       "      <th>4</th>\n",
       "      <td>1000005</td>\n",
       "      <td>M</td>\n",
       "      <td>26-35</td>\n",
       "      <td>20</td>\n",
       "    </tr>\n",
       "  </tbody>\n",
       "</table>\n",
       "</div>"
      ],
      "text/plain": [
       "   User_ID Gender    Age  Occupation\n",
       "0  1000001      F   0-17          10\n",
       "1  1000002      M    55+          16\n",
       "2  1000003      M  26-35          15\n",
       "3  1000004      M  46-50           7\n",
       "4  1000005      M  26-35          20"
      ]
     },
     "execution_count": 89,
     "metadata": {},
     "output_type": "execute_result"
    }
   ],
   "source": [
    "df1[:5]"
   ]
  },
  {
   "cell_type": "code",
   "execution_count": 90,
   "id": "3fc49711-0837-4840-8d20-7cce1bafd489",
   "metadata": {},
   "outputs": [],
   "source": [
    "ds = pd.merge(df2,df1,right_on='User_ID',left_on='User_ID')"
   ]
  },
  {
   "cell_type": "code",
   "execution_count": 91,
   "id": "d6779dda-c0bc-493c-a297-d3964693fa01",
   "metadata": {},
   "outputs": [
    {
     "data": {
      "text/html": [
       "<div>\n",
       "<style scoped>\n",
       "    .dataframe tbody tr th:only-of-type {\n",
       "        vertical-align: middle;\n",
       "    }\n",
       "\n",
       "    .dataframe tbody tr th {\n",
       "        vertical-align: top;\n",
       "    }\n",
       "\n",
       "    .dataframe thead th {\n",
       "        text-align: right;\n",
       "    }\n",
       "</style>\n",
       "<table border=\"1\" class=\"dataframe\">\n",
       "  <thead>\n",
       "    <tr style=\"text-align: right;\">\n",
       "      <th></th>\n",
       "      <th>User_ID</th>\n",
       "      <th>Product_ID</th>\n",
       "      <th>City_Category</th>\n",
       "      <th>Stay_In_Current_City_Years</th>\n",
       "      <th>Marital_Status</th>\n",
       "      <th>Product_Category_1</th>\n",
       "      <th>Product_Category_2</th>\n",
       "      <th>Product_Category_3</th>\n",
       "      <th>Purchase</th>\n",
       "      <th>Gender</th>\n",
       "      <th>Age</th>\n",
       "      <th>Occupation</th>\n",
       "    </tr>\n",
       "  </thead>\n",
       "  <tbody>\n",
       "    <tr>\n",
       "      <th>0</th>\n",
       "      <td>1000001</td>\n",
       "      <td>P00069042</td>\n",
       "      <td>A</td>\n",
       "      <td>2</td>\n",
       "      <td>0</td>\n",
       "      <td>3</td>\n",
       "      <td>NaN</td>\n",
       "      <td>NaN</td>\n",
       "      <td>8370</td>\n",
       "      <td>F</td>\n",
       "      <td>0-17</td>\n",
       "      <td>10</td>\n",
       "    </tr>\n",
       "    <tr>\n",
       "      <th>1</th>\n",
       "      <td>1000001</td>\n",
       "      <td>P00248942</td>\n",
       "      <td>A</td>\n",
       "      <td>2</td>\n",
       "      <td>0</td>\n",
       "      <td>1</td>\n",
       "      <td>6.0</td>\n",
       "      <td>14.0</td>\n",
       "      <td>15200</td>\n",
       "      <td>F</td>\n",
       "      <td>0-17</td>\n",
       "      <td>10</td>\n",
       "    </tr>\n",
       "    <tr>\n",
       "      <th>2</th>\n",
       "      <td>1000001</td>\n",
       "      <td>P00087842</td>\n",
       "      <td>A</td>\n",
       "      <td>2</td>\n",
       "      <td>0</td>\n",
       "      <td>12</td>\n",
       "      <td>NaN</td>\n",
       "      <td>NaN</td>\n",
       "      <td>1422</td>\n",
       "      <td>F</td>\n",
       "      <td>0-17</td>\n",
       "      <td>10</td>\n",
       "    </tr>\n",
       "    <tr>\n",
       "      <th>3</th>\n",
       "      <td>1000001</td>\n",
       "      <td>P00085442</td>\n",
       "      <td>A</td>\n",
       "      <td>2</td>\n",
       "      <td>0</td>\n",
       "      <td>12</td>\n",
       "      <td>14.0</td>\n",
       "      <td>NaN</td>\n",
       "      <td>1057</td>\n",
       "      <td>F</td>\n",
       "      <td>0-17</td>\n",
       "      <td>10</td>\n",
       "    </tr>\n",
       "    <tr>\n",
       "      <th>4</th>\n",
       "      <td>1000002</td>\n",
       "      <td>P00285442</td>\n",
       "      <td>C</td>\n",
       "      <td>4+</td>\n",
       "      <td>0</td>\n",
       "      <td>8</td>\n",
       "      <td>NaN</td>\n",
       "      <td>NaN</td>\n",
       "      <td>7969</td>\n",
       "      <td>M</td>\n",
       "      <td>55+</td>\n",
       "      <td>16</td>\n",
       "    </tr>\n",
       "  </tbody>\n",
       "</table>\n",
       "</div>"
      ],
      "text/plain": [
       "   User_ID Product_ID City_Category Stay_In_Current_City_Years  \\\n",
       "0  1000001  P00069042             A                          2   \n",
       "1  1000001  P00248942             A                          2   \n",
       "2  1000001  P00087842             A                          2   \n",
       "3  1000001  P00085442             A                          2   \n",
       "4  1000002  P00285442             C                         4+   \n",
       "\n",
       "   Marital_Status  Product_Category_1  Product_Category_2  Product_Category_3  \\\n",
       "0               0                   3                 NaN                 NaN   \n",
       "1               0                   1                 6.0                14.0   \n",
       "2               0                  12                 NaN                 NaN   \n",
       "3               0                  12                14.0                 NaN   \n",
       "4               0                   8                 NaN                 NaN   \n",
       "\n",
       "   Purchase Gender   Age  Occupation  \n",
       "0      8370      F  0-17          10  \n",
       "1     15200      F  0-17          10  \n",
       "2      1422      F  0-17          10  \n",
       "3      1057      F  0-17          10  \n",
       "4      7969      M   55+          16  "
      ]
     },
     "execution_count": 91,
     "metadata": {},
     "output_type": "execute_result"
    }
   ],
   "source": [
    "ds[:5]"
   ]
  },
  {
   "cell_type": "code",
   "execution_count": 92,
   "id": "9030053f-a4af-4ff0-943a-ac9100e827b8",
   "metadata": {},
   "outputs": [
    {
     "data": {
      "text/plain": [
       "4         55\n",
       "5         30\n",
       "6         48\n",
       "7         48\n",
       "8         48\n",
       "          ..\n",
       "550063    53\n",
       "550064    30\n",
       "550065    30\n",
       "550066    55\n",
       "550067    48\n",
       "Name: Age, Length: 534966, dtype: int32"
      ]
     },
     "execution_count": 92,
     "metadata": {},
     "output_type": "execute_result"
    }
   ],
   "source": [
    "df['Age']"
   ]
  },
  {
   "cell_type": "code",
   "execution_count": 93,
   "id": "101376da-3996-4c63-8ab3-c85627f647ce",
   "metadata": {},
   "outputs": [],
   "source": [
    "#spliting the age range into int(age)\n",
    "\n",
    "ds['start']=ds['Age'].str.split('-').str[0]\n",
    "\n",
    "ds['end']=ds['Age'].str.split('-').str[1]\n",
    " \n",
    "#+ is present so replace\n",
    "\n",
    "ds['start']=ds['start'].str.replace('+','',regex=False)\n",
    " \n",
    "#for null val in end of range replace with start \n",
    "\n",
    "ds['end']=ds['end'].fillna(ds['start'])\n",
    " \n",
    "#convert to int datatype\n",
    "\n",
    "ds['start']=ds['start'].astype(int)\n",
    "\n",
    "ds['end']=ds['end'].astype(int)\n",
    " \n",
    "#finding median\n",
    "\n",
    "ds['Age']=(ds['start']+ds['end'])/2\n",
    "\n",
    "#drop the temp col\n",
    "\n",
    "ds.drop(['start','end'],axis=1,inplace=True)\n",
    "\n",
    "ds[\"Age\"]=ds['Age'].astype(int)"
   ]
  },
  {
   "cell_type": "code",
   "execution_count": 94,
   "id": "42b869f7-2c0d-413b-8864-644b961fd9ba",
   "metadata": {},
   "outputs": [
    {
     "data": {
      "text/plain": [
       "(550068, 12)"
      ]
     },
     "execution_count": 94,
     "metadata": {},
     "output_type": "execute_result"
    }
   ],
   "source": [
    "ds.shape"
   ]
  },
  {
   "cell_type": "code",
   "execution_count": 95,
   "id": "0d2ee90d-51b3-4810-9640-fb1797872a19",
   "metadata": {},
   "outputs": [
    {
     "name": "stdout",
     "output_type": "stream",
     "text": [
      "<class 'pandas.core.frame.DataFrame'>\n",
      "RangeIndex: 550068 entries, 0 to 550067\n",
      "Data columns (total 12 columns):\n",
      " #   Column                      Non-Null Count   Dtype  \n",
      "---  ------                      --------------   -----  \n",
      " 0   User_ID                     550068 non-null  int64  \n",
      " 1   Product_ID                  550068 non-null  object \n",
      " 2   City_Category               550068 non-null  object \n",
      " 3   Stay_In_Current_City_Years  550068 non-null  object \n",
      " 4   Marital_Status              550068 non-null  int64  \n",
      " 5   Product_Category_1          550068 non-null  int64  \n",
      " 6   Product_Category_2          376430 non-null  float64\n",
      " 7   Product_Category_3          166821 non-null  float64\n",
      " 8   Purchase                    550068 non-null  int64  \n",
      " 9   Gender                      550068 non-null  object \n",
      " 10  Age                         550068 non-null  int32  \n",
      " 11  Occupation                  550068 non-null  int64  \n",
      "dtypes: float64(2), int32(1), int64(5), object(4)\n",
      "memory usage: 48.3+ MB\n"
     ]
    }
   ],
   "source": [
    "ds.info()"
   ]
  },
  {
   "cell_type": "code",
   "execution_count": 96,
   "id": "e7cbd5cb-ba19-48ba-96d2-44aea46d0f72",
   "metadata": {},
   "outputs": [],
   "source": [
    "ds['Stay_In_Current_City_Years'] = ds['Stay_In_Current_City_Years'].str.rstrip('+')"
   ]
  },
  {
   "cell_type": "code",
   "execution_count": 97,
   "id": "d395c6a5-b48f-4b59-87fd-d60dab1236de",
   "metadata": {},
   "outputs": [],
   "source": [
    "ds['Stay_In_Current_City_Years'] = ds['Stay_In_Current_City_Years'].astype(int)"
   ]
  },
  {
   "cell_type": "code",
   "execution_count": 98,
   "id": "2647f2c9-7286-44ea-8535-326dd0d5f220",
   "metadata": {},
   "outputs": [],
   "source": [
    "ds['Product_Category_2'] = ds['Product_Category_2'].fillna(0)"
   ]
  },
  {
   "cell_type": "code",
   "execution_count": 99,
   "id": "118e7108-29ef-4cda-8db8-81aacfbdf302",
   "metadata": {},
   "outputs": [],
   "source": [
    "ds['Product_Category_2'] = ds['Product_Category_2'].astype(int)"
   ]
  },
  {
   "cell_type": "code",
   "execution_count": 100,
   "id": "09505caf-cdb8-40ab-9193-e5d24ac2db6e",
   "metadata": {},
   "outputs": [],
   "source": [
    "ds['Product_Category_3'] = ds['Product_Category_3'].fillna(0)"
   ]
  },
  {
   "cell_type": "code",
   "execution_count": 101,
   "id": "37d609ef-57e7-4c76-9dd2-6b4a6a030433",
   "metadata": {},
   "outputs": [],
   "source": [
    "ds['Product_Category_3'] = ds['Product_Category_3'].astype(int)"
   ]
  },
  {
   "cell_type": "code",
   "execution_count": 102,
   "id": "72ee2eb8-c2c8-414e-9a95-a8f81ae616e4",
   "metadata": {},
   "outputs": [],
   "source": [
    "ds = ds.drop(ds[ds['Age']<18].index)"
   ]
  },
  {
   "cell_type": "code",
   "execution_count": 103,
   "id": "f184b5e2-05e6-4e74-b80c-f24326cf1b47",
   "metadata": {},
   "outputs": [],
   "source": [
    "ds['Product_Category'] = ds[['Product_Category_1','Product_Category_2','Product_Category_3']].sum(axis=1)"
   ]
  },
  {
   "cell_type": "code",
   "execution_count": 104,
   "id": "a8610663-65b9-48a8-96c2-49be347110eb",
   "metadata": {},
   "outputs": [
    {
     "data": {
      "text/html": [
       "<div>\n",
       "<style scoped>\n",
       "    .dataframe tbody tr th:only-of-type {\n",
       "        vertical-align: middle;\n",
       "    }\n",
       "\n",
       "    .dataframe tbody tr th {\n",
       "        vertical-align: top;\n",
       "    }\n",
       "\n",
       "    .dataframe thead th {\n",
       "        text-align: right;\n",
       "    }\n",
       "</style>\n",
       "<table border=\"1\" class=\"dataframe\">\n",
       "  <thead>\n",
       "    <tr style=\"text-align: right;\">\n",
       "      <th></th>\n",
       "      <th>User_ID</th>\n",
       "      <th>Product_ID</th>\n",
       "      <th>City_Category</th>\n",
       "      <th>Stay_In_Current_City_Years</th>\n",
       "      <th>Marital_Status</th>\n",
       "      <th>Product_Category_1</th>\n",
       "      <th>Product_Category_2</th>\n",
       "      <th>Product_Category_3</th>\n",
       "      <th>Purchase</th>\n",
       "      <th>Gender</th>\n",
       "      <th>Age</th>\n",
       "      <th>Occupation</th>\n",
       "      <th>Product_Category</th>\n",
       "    </tr>\n",
       "  </thead>\n",
       "  <tbody>\n",
       "    <tr>\n",
       "      <th>4</th>\n",
       "      <td>1000002</td>\n",
       "      <td>P00285442</td>\n",
       "      <td>C</td>\n",
       "      <td>4</td>\n",
       "      <td>0</td>\n",
       "      <td>8</td>\n",
       "      <td>0</td>\n",
       "      <td>0</td>\n",
       "      <td>7969</td>\n",
       "      <td>M</td>\n",
       "      <td>55</td>\n",
       "      <td>16</td>\n",
       "      <td>8</td>\n",
       "    </tr>\n",
       "    <tr>\n",
       "      <th>5</th>\n",
       "      <td>1000003</td>\n",
       "      <td>P00193542</td>\n",
       "      <td>A</td>\n",
       "      <td>3</td>\n",
       "      <td>0</td>\n",
       "      <td>1</td>\n",
       "      <td>2</td>\n",
       "      <td>0</td>\n",
       "      <td>15227</td>\n",
       "      <td>M</td>\n",
       "      <td>30</td>\n",
       "      <td>15</td>\n",
       "      <td>3</td>\n",
       "    </tr>\n",
       "    <tr>\n",
       "      <th>6</th>\n",
       "      <td>1000004</td>\n",
       "      <td>P00184942</td>\n",
       "      <td>B</td>\n",
       "      <td>2</td>\n",
       "      <td>1</td>\n",
       "      <td>1</td>\n",
       "      <td>8</td>\n",
       "      <td>17</td>\n",
       "      <td>19215</td>\n",
       "      <td>M</td>\n",
       "      <td>48</td>\n",
       "      <td>7</td>\n",
       "      <td>26</td>\n",
       "    </tr>\n",
       "    <tr>\n",
       "      <th>7</th>\n",
       "      <td>1000004</td>\n",
       "      <td>P00346142</td>\n",
       "      <td>B</td>\n",
       "      <td>2</td>\n",
       "      <td>1</td>\n",
       "      <td>1</td>\n",
       "      <td>15</td>\n",
       "      <td>0</td>\n",
       "      <td>15854</td>\n",
       "      <td>M</td>\n",
       "      <td>48</td>\n",
       "      <td>7</td>\n",
       "      <td>16</td>\n",
       "    </tr>\n",
       "    <tr>\n",
       "      <th>8</th>\n",
       "      <td>1000004</td>\n",
       "      <td>P0097242</td>\n",
       "      <td>B</td>\n",
       "      <td>2</td>\n",
       "      <td>1</td>\n",
       "      <td>1</td>\n",
       "      <td>16</td>\n",
       "      <td>0</td>\n",
       "      <td>15686</td>\n",
       "      <td>M</td>\n",
       "      <td>48</td>\n",
       "      <td>7</td>\n",
       "      <td>17</td>\n",
       "    </tr>\n",
       "  </tbody>\n",
       "</table>\n",
       "</div>"
      ],
      "text/plain": [
       "   User_ID Product_ID City_Category  Stay_In_Current_City_Years  \\\n",
       "4  1000002  P00285442             C                           4   \n",
       "5  1000003  P00193542             A                           3   \n",
       "6  1000004  P00184942             B                           2   \n",
       "7  1000004  P00346142             B                           2   \n",
       "8  1000004   P0097242             B                           2   \n",
       "\n",
       "   Marital_Status  Product_Category_1  Product_Category_2  Product_Category_3  \\\n",
       "4               0                   8                   0                   0   \n",
       "5               0                   1                   2                   0   \n",
       "6               1                   1                   8                  17   \n",
       "7               1                   1                  15                   0   \n",
       "8               1                   1                  16                   0   \n",
       "\n",
       "   Purchase Gender  Age  Occupation  Product_Category  \n",
       "4      7969      M   55          16                 8  \n",
       "5     15227      M   30          15                 3  \n",
       "6     19215      M   48           7                26  \n",
       "7     15854      M   48           7                16  \n",
       "8     15686      M   48           7                17  "
      ]
     },
     "execution_count": 104,
     "metadata": {},
     "output_type": "execute_result"
    }
   ],
   "source": [
    "ds[:5]"
   ]
  },
  {
   "cell_type": "code",
   "execution_count": 105,
   "id": "8f7c4c6a-4c83-4906-9fa2-1a79ef5e3822",
   "metadata": {},
   "outputs": [],
   "source": [
    "ds = ds.drop(ds[['Product_Category_1','Product_Category_2','Product_Category_3']],axis=1)"
   ]
  },
  {
   "cell_type": "code",
   "execution_count": 106,
   "id": "7337b0d8-724e-42ce-bc90-f81ba936a96b",
   "metadata": {},
   "outputs": [
    {
     "data": {
      "text/html": [
       "<div>\n",
       "<style scoped>\n",
       "    .dataframe tbody tr th:only-of-type {\n",
       "        vertical-align: middle;\n",
       "    }\n",
       "\n",
       "    .dataframe tbody tr th {\n",
       "        vertical-align: top;\n",
       "    }\n",
       "\n",
       "    .dataframe thead th {\n",
       "        text-align: right;\n",
       "    }\n",
       "</style>\n",
       "<table border=\"1\" class=\"dataframe\">\n",
       "  <thead>\n",
       "    <tr style=\"text-align: right;\">\n",
       "      <th></th>\n",
       "      <th>User_ID</th>\n",
       "      <th>Product_ID</th>\n",
       "      <th>City_Category</th>\n",
       "      <th>Stay_In_Current_City_Years</th>\n",
       "      <th>Marital_Status</th>\n",
       "      <th>Purchase</th>\n",
       "      <th>Gender</th>\n",
       "      <th>Age</th>\n",
       "      <th>Occupation</th>\n",
       "      <th>Product_Category</th>\n",
       "    </tr>\n",
       "  </thead>\n",
       "  <tbody>\n",
       "    <tr>\n",
       "      <th>4</th>\n",
       "      <td>1000002</td>\n",
       "      <td>P00285442</td>\n",
       "      <td>C</td>\n",
       "      <td>4</td>\n",
       "      <td>0</td>\n",
       "      <td>7969</td>\n",
       "      <td>M</td>\n",
       "      <td>55</td>\n",
       "      <td>16</td>\n",
       "      <td>8</td>\n",
       "    </tr>\n",
       "    <tr>\n",
       "      <th>5</th>\n",
       "      <td>1000003</td>\n",
       "      <td>P00193542</td>\n",
       "      <td>A</td>\n",
       "      <td>3</td>\n",
       "      <td>0</td>\n",
       "      <td>15227</td>\n",
       "      <td>M</td>\n",
       "      <td>30</td>\n",
       "      <td>15</td>\n",
       "      <td>3</td>\n",
       "    </tr>\n",
       "    <tr>\n",
       "      <th>6</th>\n",
       "      <td>1000004</td>\n",
       "      <td>P00184942</td>\n",
       "      <td>B</td>\n",
       "      <td>2</td>\n",
       "      <td>1</td>\n",
       "      <td>19215</td>\n",
       "      <td>M</td>\n",
       "      <td>48</td>\n",
       "      <td>7</td>\n",
       "      <td>26</td>\n",
       "    </tr>\n",
       "    <tr>\n",
       "      <th>7</th>\n",
       "      <td>1000004</td>\n",
       "      <td>P00346142</td>\n",
       "      <td>B</td>\n",
       "      <td>2</td>\n",
       "      <td>1</td>\n",
       "      <td>15854</td>\n",
       "      <td>M</td>\n",
       "      <td>48</td>\n",
       "      <td>7</td>\n",
       "      <td>16</td>\n",
       "    </tr>\n",
       "    <tr>\n",
       "      <th>8</th>\n",
       "      <td>1000004</td>\n",
       "      <td>P0097242</td>\n",
       "      <td>B</td>\n",
       "      <td>2</td>\n",
       "      <td>1</td>\n",
       "      <td>15686</td>\n",
       "      <td>M</td>\n",
       "      <td>48</td>\n",
       "      <td>7</td>\n",
       "      <td>17</td>\n",
       "    </tr>\n",
       "    <tr>\n",
       "      <th>...</th>\n",
       "      <td>...</td>\n",
       "      <td>...</td>\n",
       "      <td>...</td>\n",
       "      <td>...</td>\n",
       "      <td>...</td>\n",
       "      <td>...</td>\n",
       "      <td>...</td>\n",
       "      <td>...</td>\n",
       "      <td>...</td>\n",
       "      <td>...</td>\n",
       "    </tr>\n",
       "    <tr>\n",
       "      <th>550063</th>\n",
       "      <td>1006033</td>\n",
       "      <td>P00372445</td>\n",
       "      <td>B</td>\n",
       "      <td>1</td>\n",
       "      <td>1</td>\n",
       "      <td>368</td>\n",
       "      <td>M</td>\n",
       "      <td>53</td>\n",
       "      <td>13</td>\n",
       "      <td>20</td>\n",
       "    </tr>\n",
       "    <tr>\n",
       "      <th>550064</th>\n",
       "      <td>1006035</td>\n",
       "      <td>P00375436</td>\n",
       "      <td>C</td>\n",
       "      <td>3</td>\n",
       "      <td>0</td>\n",
       "      <td>371</td>\n",
       "      <td>F</td>\n",
       "      <td>30</td>\n",
       "      <td>1</td>\n",
       "      <td>20</td>\n",
       "    </tr>\n",
       "    <tr>\n",
       "      <th>550065</th>\n",
       "      <td>1006036</td>\n",
       "      <td>P00375436</td>\n",
       "      <td>B</td>\n",
       "      <td>4</td>\n",
       "      <td>1</td>\n",
       "      <td>137</td>\n",
       "      <td>F</td>\n",
       "      <td>30</td>\n",
       "      <td>15</td>\n",
       "      <td>20</td>\n",
       "    </tr>\n",
       "    <tr>\n",
       "      <th>550066</th>\n",
       "      <td>1006038</td>\n",
       "      <td>P00375436</td>\n",
       "      <td>C</td>\n",
       "      <td>2</td>\n",
       "      <td>0</td>\n",
       "      <td>365</td>\n",
       "      <td>F</td>\n",
       "      <td>55</td>\n",
       "      <td>1</td>\n",
       "      <td>20</td>\n",
       "    </tr>\n",
       "    <tr>\n",
       "      <th>550067</th>\n",
       "      <td>1006039</td>\n",
       "      <td>P00371644</td>\n",
       "      <td>B</td>\n",
       "      <td>4</td>\n",
       "      <td>1</td>\n",
       "      <td>490</td>\n",
       "      <td>F</td>\n",
       "      <td>48</td>\n",
       "      <td>0</td>\n",
       "      <td>20</td>\n",
       "    </tr>\n",
       "  </tbody>\n",
       "</table>\n",
       "<p>534966 rows × 10 columns</p>\n",
       "</div>"
      ],
      "text/plain": [
       "        User_ID Product_ID City_Category  Stay_In_Current_City_Years  \\\n",
       "4       1000002  P00285442             C                           4   \n",
       "5       1000003  P00193542             A                           3   \n",
       "6       1000004  P00184942             B                           2   \n",
       "7       1000004  P00346142             B                           2   \n",
       "8       1000004   P0097242             B                           2   \n",
       "...         ...        ...           ...                         ...   \n",
       "550063  1006033  P00372445             B                           1   \n",
       "550064  1006035  P00375436             C                           3   \n",
       "550065  1006036  P00375436             B                           4   \n",
       "550066  1006038  P00375436             C                           2   \n",
       "550067  1006039  P00371644             B                           4   \n",
       "\n",
       "        Marital_Status  Purchase Gender  Age  Occupation  Product_Category  \n",
       "4                    0      7969      M   55          16                 8  \n",
       "5                    0     15227      M   30          15                 3  \n",
       "6                    1     19215      M   48           7                26  \n",
       "7                    1     15854      M   48           7                16  \n",
       "8                    1     15686      M   48           7                17  \n",
       "...                ...       ...    ...  ...         ...               ...  \n",
       "550063               1       368      M   53          13                20  \n",
       "550064               0       371      F   30           1                20  \n",
       "550065               1       137      F   30          15                20  \n",
       "550066               0       365      F   55           1                20  \n",
       "550067               1       490      F   48           0                20  \n",
       "\n",
       "[534966 rows x 10 columns]"
      ]
     },
     "execution_count": 106,
     "metadata": {},
     "output_type": "execute_result"
    }
   ],
   "source": [
    "ds"
   ]
  },
  {
   "cell_type": "code",
   "execution_count": 107,
   "id": "80699562-0122-4c24-982f-f286086f29b3",
   "metadata": {},
   "outputs": [],
   "source": [
    "df = ds.drop(ds[['City_Category','Product_ID','Gender','Marital_Status']],axis=1)"
   ]
  },
  {
   "cell_type": "code",
   "execution_count": 108,
   "id": "c86af821-959a-4af2-9b41-b89e07394867",
   "metadata": {},
   "outputs": [],
   "source": [
    "dj = df"
   ]
  },
  {
   "cell_type": "code",
   "execution_count": 109,
   "id": "e97fc050-2825-4473-a062-9b8c80e28837",
   "metadata": {},
   "outputs": [
    {
     "data": {
      "text/html": [
       "<div>\n",
       "<style scoped>\n",
       "    .dataframe tbody tr th:only-of-type {\n",
       "        vertical-align: middle;\n",
       "    }\n",
       "\n",
       "    .dataframe tbody tr th {\n",
       "        vertical-align: top;\n",
       "    }\n",
       "\n",
       "    .dataframe thead th {\n",
       "        text-align: right;\n",
       "    }\n",
       "</style>\n",
       "<table border=\"1\" class=\"dataframe\">\n",
       "  <thead>\n",
       "    <tr style=\"text-align: right;\">\n",
       "      <th></th>\n",
       "      <th>User_ID</th>\n",
       "      <th>Stay_In_Current_City_Years</th>\n",
       "      <th>Purchase</th>\n",
       "      <th>Age</th>\n",
       "      <th>Occupation</th>\n",
       "      <th>Product_Category</th>\n",
       "    </tr>\n",
       "  </thead>\n",
       "  <tbody>\n",
       "    <tr>\n",
       "      <th>4</th>\n",
       "      <td>1000002</td>\n",
       "      <td>4</td>\n",
       "      <td>7969</td>\n",
       "      <td>55</td>\n",
       "      <td>16</td>\n",
       "      <td>8</td>\n",
       "    </tr>\n",
       "    <tr>\n",
       "      <th>5</th>\n",
       "      <td>1000003</td>\n",
       "      <td>3</td>\n",
       "      <td>15227</td>\n",
       "      <td>30</td>\n",
       "      <td>15</td>\n",
       "      <td>3</td>\n",
       "    </tr>\n",
       "    <tr>\n",
       "      <th>6</th>\n",
       "      <td>1000004</td>\n",
       "      <td>2</td>\n",
       "      <td>19215</td>\n",
       "      <td>48</td>\n",
       "      <td>7</td>\n",
       "      <td>26</td>\n",
       "    </tr>\n",
       "    <tr>\n",
       "      <th>7</th>\n",
       "      <td>1000004</td>\n",
       "      <td>2</td>\n",
       "      <td>15854</td>\n",
       "      <td>48</td>\n",
       "      <td>7</td>\n",
       "      <td>16</td>\n",
       "    </tr>\n",
       "    <tr>\n",
       "      <th>8</th>\n",
       "      <td>1000004</td>\n",
       "      <td>2</td>\n",
       "      <td>15686</td>\n",
       "      <td>48</td>\n",
       "      <td>7</td>\n",
       "      <td>17</td>\n",
       "    </tr>\n",
       "    <tr>\n",
       "      <th>...</th>\n",
       "      <td>...</td>\n",
       "      <td>...</td>\n",
       "      <td>...</td>\n",
       "      <td>...</td>\n",
       "      <td>...</td>\n",
       "      <td>...</td>\n",
       "    </tr>\n",
       "    <tr>\n",
       "      <th>550063</th>\n",
       "      <td>1006033</td>\n",
       "      <td>1</td>\n",
       "      <td>368</td>\n",
       "      <td>53</td>\n",
       "      <td>13</td>\n",
       "      <td>20</td>\n",
       "    </tr>\n",
       "    <tr>\n",
       "      <th>550064</th>\n",
       "      <td>1006035</td>\n",
       "      <td>3</td>\n",
       "      <td>371</td>\n",
       "      <td>30</td>\n",
       "      <td>1</td>\n",
       "      <td>20</td>\n",
       "    </tr>\n",
       "    <tr>\n",
       "      <th>550065</th>\n",
       "      <td>1006036</td>\n",
       "      <td>4</td>\n",
       "      <td>137</td>\n",
       "      <td>30</td>\n",
       "      <td>15</td>\n",
       "      <td>20</td>\n",
       "    </tr>\n",
       "    <tr>\n",
       "      <th>550066</th>\n",
       "      <td>1006038</td>\n",
       "      <td>2</td>\n",
       "      <td>365</td>\n",
       "      <td>55</td>\n",
       "      <td>1</td>\n",
       "      <td>20</td>\n",
       "    </tr>\n",
       "    <tr>\n",
       "      <th>550067</th>\n",
       "      <td>1006039</td>\n",
       "      <td>4</td>\n",
       "      <td>490</td>\n",
       "      <td>48</td>\n",
       "      <td>0</td>\n",
       "      <td>20</td>\n",
       "    </tr>\n",
       "  </tbody>\n",
       "</table>\n",
       "<p>534966 rows × 6 columns</p>\n",
       "</div>"
      ],
      "text/plain": [
       "        User_ID  Stay_In_Current_City_Years  Purchase  Age  Occupation  \\\n",
       "4       1000002                           4      7969   55          16   \n",
       "5       1000003                           3     15227   30          15   \n",
       "6       1000004                           2     19215   48           7   \n",
       "7       1000004                           2     15854   48           7   \n",
       "8       1000004                           2     15686   48           7   \n",
       "...         ...                         ...       ...  ...         ...   \n",
       "550063  1006033                           1       368   53          13   \n",
       "550064  1006035                           3       371   30           1   \n",
       "550065  1006036                           4       137   30          15   \n",
       "550066  1006038                           2       365   55           1   \n",
       "550067  1006039                           4       490   48           0   \n",
       "\n",
       "        Product_Category  \n",
       "4                      8  \n",
       "5                      3  \n",
       "6                     26  \n",
       "7                     16  \n",
       "8                     17  \n",
       "...                  ...  \n",
       "550063                20  \n",
       "550064                20  \n",
       "550065                20  \n",
       "550066                20  \n",
       "550067                20  \n",
       "\n",
       "[534966 rows x 6 columns]"
      ]
     },
     "execution_count": 109,
     "metadata": {},
     "output_type": "execute_result"
    }
   ],
   "source": [
    "dj"
   ]
  },
  {
   "cell_type": "code",
   "execution_count": null,
   "id": "280a9cda-aff0-414b-b8af-359b58fc23de",
   "metadata": {},
   "outputs": [],
   "source": []
  },
  {
   "cell_type": "code",
   "execution_count": 110,
   "id": "16106605-b6d9-4065-9cee-1521bbb8d634",
   "metadata": {},
   "outputs": [
    {
     "data": {
      "text/html": [
       "<div>\n",
       "<style scoped>\n",
       "    .dataframe tbody tr th:only-of-type {\n",
       "        vertical-align: middle;\n",
       "    }\n",
       "\n",
       "    .dataframe tbody tr th {\n",
       "        vertical-align: top;\n",
       "    }\n",
       "\n",
       "    .dataframe thead th {\n",
       "        text-align: right;\n",
       "    }\n",
       "</style>\n",
       "<table border=\"1\" class=\"dataframe\">\n",
       "  <thead>\n",
       "    <tr style=\"text-align: right;\">\n",
       "      <th></th>\n",
       "      <th>User_ID</th>\n",
       "      <th>Stay_In_Current_City_Years</th>\n",
       "      <th>Purchase</th>\n",
       "      <th>Age</th>\n",
       "      <th>Occupation</th>\n",
       "      <th>Product_Category</th>\n",
       "    </tr>\n",
       "  </thead>\n",
       "  <tbody>\n",
       "    <tr>\n",
       "      <th>4</th>\n",
       "      <td>1000002</td>\n",
       "      <td>4</td>\n",
       "      <td>7969</td>\n",
       "      <td>55</td>\n",
       "      <td>16</td>\n",
       "      <td>8</td>\n",
       "    </tr>\n",
       "    <tr>\n",
       "      <th>5</th>\n",
       "      <td>1000003</td>\n",
       "      <td>3</td>\n",
       "      <td>15227</td>\n",
       "      <td>30</td>\n",
       "      <td>15</td>\n",
       "      <td>3</td>\n",
       "    </tr>\n",
       "    <tr>\n",
       "      <th>6</th>\n",
       "      <td>1000004</td>\n",
       "      <td>2</td>\n",
       "      <td>19215</td>\n",
       "      <td>48</td>\n",
       "      <td>7</td>\n",
       "      <td>26</td>\n",
       "    </tr>\n",
       "    <tr>\n",
       "      <th>7</th>\n",
       "      <td>1000004</td>\n",
       "      <td>2</td>\n",
       "      <td>15854</td>\n",
       "      <td>48</td>\n",
       "      <td>7</td>\n",
       "      <td>16</td>\n",
       "    </tr>\n",
       "    <tr>\n",
       "      <th>8</th>\n",
       "      <td>1000004</td>\n",
       "      <td>2</td>\n",
       "      <td>15686</td>\n",
       "      <td>48</td>\n",
       "      <td>7</td>\n",
       "      <td>17</td>\n",
       "    </tr>\n",
       "  </tbody>\n",
       "</table>\n",
       "</div>"
      ],
      "text/plain": [
       "   User_ID  Stay_In_Current_City_Years  Purchase  Age  Occupation  \\\n",
       "4  1000002                           4      7969   55          16   \n",
       "5  1000003                           3     15227   30          15   \n",
       "6  1000004                           2     19215   48           7   \n",
       "7  1000004                           2     15854   48           7   \n",
       "8  1000004                           2     15686   48           7   \n",
       "\n",
       "   Product_Category  \n",
       "4                 8  \n",
       "5                 3  \n",
       "6                26  \n",
       "7                16  \n",
       "8                17  "
      ]
     },
     "execution_count": 110,
     "metadata": {},
     "output_type": "execute_result"
    }
   ],
   "source": [
    "df[:5]"
   ]
  },
  {
   "cell_type": "code",
   "execution_count": 111,
   "id": "0d0bf6e2-663c-465a-869b-14b5481621bf",
   "metadata": {},
   "outputs": [],
   "source": [
    "mean=dj['Purchase'].mean()\n",
    "def voucher(purchase):\n",
    "    if purchase > mean:\n",
    "         dis=purchase*0.25\n",
    "         return purchase-dis\n",
    "    else:\n",
    "        return purchase\n",
    "dj['After_discount']=dj['Purchase'].apply(voucher)"
   ]
  },
  {
   "cell_type": "code",
   "execution_count": 112,
   "id": "34722a14-7873-4383-8e93-f24645b2c15f",
   "metadata": {},
   "outputs": [
    {
     "data": {
      "text/html": [
       "<div>\n",
       "<style scoped>\n",
       "    .dataframe tbody tr th:only-of-type {\n",
       "        vertical-align: middle;\n",
       "    }\n",
       "\n",
       "    .dataframe tbody tr th {\n",
       "        vertical-align: top;\n",
       "    }\n",
       "\n",
       "    .dataframe thead th {\n",
       "        text-align: right;\n",
       "    }\n",
       "</style>\n",
       "<table border=\"1\" class=\"dataframe\">\n",
       "  <thead>\n",
       "    <tr style=\"text-align: right;\">\n",
       "      <th></th>\n",
       "      <th>User_ID</th>\n",
       "      <th>Stay_In_Current_City_Years</th>\n",
       "      <th>Purchase</th>\n",
       "      <th>Age</th>\n",
       "      <th>Occupation</th>\n",
       "      <th>Product_Category</th>\n",
       "      <th>After_discount</th>\n",
       "    </tr>\n",
       "  </thead>\n",
       "  <tbody>\n",
       "    <tr>\n",
       "      <th>4</th>\n",
       "      <td>1000002</td>\n",
       "      <td>4</td>\n",
       "      <td>7969</td>\n",
       "      <td>55</td>\n",
       "      <td>16</td>\n",
       "      <td>8</td>\n",
       "      <td>7969.00</td>\n",
       "    </tr>\n",
       "    <tr>\n",
       "      <th>5</th>\n",
       "      <td>1000003</td>\n",
       "      <td>3</td>\n",
       "      <td>15227</td>\n",
       "      <td>30</td>\n",
       "      <td>15</td>\n",
       "      <td>3</td>\n",
       "      <td>11420.25</td>\n",
       "    </tr>\n",
       "    <tr>\n",
       "      <th>6</th>\n",
       "      <td>1000004</td>\n",
       "      <td>2</td>\n",
       "      <td>19215</td>\n",
       "      <td>48</td>\n",
       "      <td>7</td>\n",
       "      <td>26</td>\n",
       "      <td>14411.25</td>\n",
       "    </tr>\n",
       "    <tr>\n",
       "      <th>7</th>\n",
       "      <td>1000004</td>\n",
       "      <td>2</td>\n",
       "      <td>15854</td>\n",
       "      <td>48</td>\n",
       "      <td>7</td>\n",
       "      <td>16</td>\n",
       "      <td>11890.50</td>\n",
       "    </tr>\n",
       "    <tr>\n",
       "      <th>8</th>\n",
       "      <td>1000004</td>\n",
       "      <td>2</td>\n",
       "      <td>15686</td>\n",
       "      <td>48</td>\n",
       "      <td>7</td>\n",
       "      <td>17</td>\n",
       "      <td>11764.50</td>\n",
       "    </tr>\n",
       "  </tbody>\n",
       "</table>\n",
       "</div>"
      ],
      "text/plain": [
       "   User_ID  Stay_In_Current_City_Years  Purchase  Age  Occupation  \\\n",
       "4  1000002                           4      7969   55          16   \n",
       "5  1000003                           3     15227   30          15   \n",
       "6  1000004                           2     19215   48           7   \n",
       "7  1000004                           2     15854   48           7   \n",
       "8  1000004                           2     15686   48           7   \n",
       "\n",
       "   Product_Category  After_discount  \n",
       "4                 8         7969.00  \n",
       "5                 3        11420.25  \n",
       "6                26        14411.25  \n",
       "7                16        11890.50  \n",
       "8                17        11764.50  "
      ]
     },
     "execution_count": 112,
     "metadata": {},
     "output_type": "execute_result"
    }
   ],
   "source": [
    "dj[:5]"
   ]
  },
  {
   "cell_type": "code",
   "execution_count": null,
   "id": "7b014c73-a2c7-4364-9cf3-497d0c62e4d1",
   "metadata": {},
   "outputs": [],
   "source": []
  },
  {
   "cell_type": "code",
   "execution_count": 113,
   "id": "eb833723-3df0-4658-bc67-3a34fa983d9b",
   "metadata": {},
   "outputs": [],
   "source": [
    "dj = dj.groupby('User_ID').agg({\n",
    "    'Stay_In_Current_City_Years': 'first',\n",
    "    'Purchase': 'sum',\n",
    "    'Age': 'first',\n",
    "    'Occupation': 'first',\n",
    "    'Product_Category': 'sum',\n",
    "    'After_discount': 'sum'\n",
    "}).reset_index()"
   ]
  },
  {
   "cell_type": "code",
   "execution_count": 114,
   "id": "dcca7b11-9399-4a83-8e9c-f5f868f161b5",
   "metadata": {},
   "outputs": [
    {
     "data": {
      "text/html": [
       "<div>\n",
       "<style scoped>\n",
       "    .dataframe tbody tr th:only-of-type {\n",
       "        vertical-align: middle;\n",
       "    }\n",
       "\n",
       "    .dataframe tbody tr th {\n",
       "        vertical-align: top;\n",
       "    }\n",
       "\n",
       "    .dataframe thead th {\n",
       "        text-align: right;\n",
       "    }\n",
       "</style>\n",
       "<table border=\"1\" class=\"dataframe\">\n",
       "  <thead>\n",
       "    <tr style=\"text-align: right;\">\n",
       "      <th></th>\n",
       "      <th>index</th>\n",
       "      <th>User_ID</th>\n",
       "      <th>Stay_In_Current_City_Years</th>\n",
       "      <th>Purchase</th>\n",
       "      <th>Age</th>\n",
       "      <th>Occupation</th>\n",
       "      <th>Product_Category</th>\n",
       "      <th>After_discount</th>\n",
       "    </tr>\n",
       "  </thead>\n",
       "  <tbody>\n",
       "    <tr>\n",
       "      <th>0</th>\n",
       "      <td>0</td>\n",
       "      <td>1000002</td>\n",
       "      <td>4</td>\n",
       "      <td>810472</td>\n",
       "      <td>55</td>\n",
       "      <td>16</td>\n",
       "      <td>1252</td>\n",
       "      <td>661163.00</td>\n",
       "    </tr>\n",
       "    <tr>\n",
       "      <th>1</th>\n",
       "      <td>1</td>\n",
       "      <td>1000003</td>\n",
       "      <td>3</td>\n",
       "      <td>341635</td>\n",
       "      <td>30</td>\n",
       "      <td>15</td>\n",
       "      <td>358</td>\n",
       "      <td>277406.00</td>\n",
       "    </tr>\n",
       "    <tr>\n",
       "      <th>2</th>\n",
       "      <td>2</td>\n",
       "      <td>1000004</td>\n",
       "      <td>2</td>\n",
       "      <td>206468</td>\n",
       "      <td>48</td>\n",
       "      <td>7</td>\n",
       "      <td>262</td>\n",
       "      <td>155933.50</td>\n",
       "    </tr>\n",
       "    <tr>\n",
       "      <th>3</th>\n",
       "      <td>3</td>\n",
       "      <td>1000005</td>\n",
       "      <td>1</td>\n",
       "      <td>821001</td>\n",
       "      <td>30</td>\n",
       "      <td>20</td>\n",
       "      <td>1508</td>\n",
       "      <td>731065.50</td>\n",
       "    </tr>\n",
       "    <tr>\n",
       "      <th>4</th>\n",
       "      <td>4</td>\n",
       "      <td>1000006</td>\n",
       "      <td>1</td>\n",
       "      <td>379930</td>\n",
       "      <td>53</td>\n",
       "      <td>9</td>\n",
       "      <td>874</td>\n",
       "      <td>320093.00</td>\n",
       "    </tr>\n",
       "    <tr>\n",
       "      <th>...</th>\n",
       "      <td>...</td>\n",
       "      <td>...</td>\n",
       "      <td>...</td>\n",
       "      <td>...</td>\n",
       "      <td>...</td>\n",
       "      <td>...</td>\n",
       "      <td>...</td>\n",
       "      <td>...</td>\n",
       "    </tr>\n",
       "    <tr>\n",
       "      <th>5668</th>\n",
       "      <td>5668</td>\n",
       "      <td>1006036</td>\n",
       "      <td>4</td>\n",
       "      <td>4116058</td>\n",
       "      <td>30</td>\n",
       "      <td>15</td>\n",
       "      <td>8112</td>\n",
       "      <td>3643821.75</td>\n",
       "    </tr>\n",
       "    <tr>\n",
       "      <th>5669</th>\n",
       "      <td>5669</td>\n",
       "      <td>1006037</td>\n",
       "      <td>4</td>\n",
       "      <td>1119538</td>\n",
       "      <td>48</td>\n",
       "      <td>1</td>\n",
       "      <td>2288</td>\n",
       "      <td>950006.75</td>\n",
       "    </tr>\n",
       "    <tr>\n",
       "      <th>5670</th>\n",
       "      <td>5670</td>\n",
       "      <td>1006038</td>\n",
       "      <td>2</td>\n",
       "      <td>90034</td>\n",
       "      <td>55</td>\n",
       "      <td>1</td>\n",
       "      <td>227</td>\n",
       "      <td>80861.50</td>\n",
       "    </tr>\n",
       "    <tr>\n",
       "      <th>5671</th>\n",
       "      <td>5671</td>\n",
       "      <td>1006039</td>\n",
       "      <td>4</td>\n",
       "      <td>590319</td>\n",
       "      <td>48</td>\n",
       "      <td>0</td>\n",
       "      <td>1343</td>\n",
       "      <td>510367.00</td>\n",
       "    </tr>\n",
       "    <tr>\n",
       "      <th>5672</th>\n",
       "      <td>5672</td>\n",
       "      <td>1006040</td>\n",
       "      <td>2</td>\n",
       "      <td>1653299</td>\n",
       "      <td>30</td>\n",
       "      <td>6</td>\n",
       "      <td>2706</td>\n",
       "      <td>1398981.75</td>\n",
       "    </tr>\n",
       "  </tbody>\n",
       "</table>\n",
       "<p>5673 rows × 8 columns</p>\n",
       "</div>"
      ],
      "text/plain": [
       "      index  User_ID  Stay_In_Current_City_Years  Purchase  Age  Occupation  \\\n",
       "0         0  1000002                           4    810472   55          16   \n",
       "1         1  1000003                           3    341635   30          15   \n",
       "2         2  1000004                           2    206468   48           7   \n",
       "3         3  1000005                           1    821001   30          20   \n",
       "4         4  1000006                           1    379930   53           9   \n",
       "...     ...      ...                         ...       ...  ...         ...   \n",
       "5668   5668  1006036                           4   4116058   30          15   \n",
       "5669   5669  1006037                           4   1119538   48           1   \n",
       "5670   5670  1006038                           2     90034   55           1   \n",
       "5671   5671  1006039                           4    590319   48           0   \n",
       "5672   5672  1006040                           2   1653299   30           6   \n",
       "\n",
       "      Product_Category  After_discount  \n",
       "0                 1252       661163.00  \n",
       "1                  358       277406.00  \n",
       "2                  262       155933.50  \n",
       "3                 1508       731065.50  \n",
       "4                  874       320093.00  \n",
       "...                ...             ...  \n",
       "5668              8112      3643821.75  \n",
       "5669              2288       950006.75  \n",
       "5670               227        80861.50  \n",
       "5671              1343       510367.00  \n",
       "5672              2706      1398981.75  \n",
       "\n",
       "[5673 rows x 8 columns]"
      ]
     },
     "execution_count": 114,
     "metadata": {},
     "output_type": "execute_result"
    }
   ],
   "source": [
    "dj.reset_index()"
   ]
  },
  {
   "cell_type": "code",
   "execution_count": 115,
   "id": "d45daad7-8c04-45f7-9191-b1436f5a41e9",
   "metadata": {},
   "outputs": [],
   "source": [
    "x = dj.iloc[:,[1,3,4]]"
   ]
  },
  {
   "cell_type": "code",
   "execution_count": 116,
   "id": "92a0a123-5fa4-4652-854f-479406f191e0",
   "metadata": {},
   "outputs": [],
   "source": [
    "y = dj.iloc[:,2]"
   ]
  },
  {
   "cell_type": "code",
   "execution_count": 126,
   "id": "904430a7-e990-4cb5-8a52-b8bd2cfa7b08",
   "metadata": {},
   "outputs": [],
   "source": [
    "from sklearn.model_selection import train_test_split\n",
    "from sklearn.ensemble import RandomForestRegressor\n",
    "from sklearn.metrics import r2_score,mean_squared_error,accuracy_score,precision_score, mean_absolute_error"
   ]
  },
  {
   "cell_type": "code",
   "execution_count": 118,
   "id": "8dba6bcb-8d37-42c0-96e7-02134a3758f9",
   "metadata": {},
   "outputs": [],
   "source": [
    "xtrain,xtest,ytrain,ytest = train_test_split(x,y,test_size=0.2,random_state=42)"
   ]
  },
  {
   "cell_type": "code",
   "execution_count": 119,
   "id": "da665dab-80c0-4e6e-99d1-c04a57484720",
   "metadata": {},
   "outputs": [
    {
     "data": {
      "text/html": [
       "<div>\n",
       "<style scoped>\n",
       "    .dataframe tbody tr th:only-of-type {\n",
       "        vertical-align: middle;\n",
       "    }\n",
       "\n",
       "    .dataframe tbody tr th {\n",
       "        vertical-align: top;\n",
       "    }\n",
       "\n",
       "    .dataframe thead th {\n",
       "        text-align: right;\n",
       "    }\n",
       "</style>\n",
       "<table border=\"1\" class=\"dataframe\">\n",
       "  <thead>\n",
       "    <tr style=\"text-align: right;\">\n",
       "      <th></th>\n",
       "      <th>Stay_In_Current_City_Years</th>\n",
       "      <th>Age</th>\n",
       "      <th>Occupation</th>\n",
       "    </tr>\n",
       "  </thead>\n",
       "  <tbody>\n",
       "    <tr>\n",
       "      <th>4967</th>\n",
       "      <td>0</td>\n",
       "      <td>21</td>\n",
       "      <td>4</td>\n",
       "    </tr>\n",
       "    <tr>\n",
       "      <th>1071</th>\n",
       "      <td>0</td>\n",
       "      <td>30</td>\n",
       "      <td>12</td>\n",
       "    </tr>\n",
       "    <tr>\n",
       "      <th>718</th>\n",
       "      <td>3</td>\n",
       "      <td>30</td>\n",
       "      <td>7</td>\n",
       "    </tr>\n",
       "    <tr>\n",
       "      <th>5308</th>\n",
       "      <td>1</td>\n",
       "      <td>53</td>\n",
       "      <td>1</td>\n",
       "    </tr>\n",
       "    <tr>\n",
       "      <th>670</th>\n",
       "      <td>4</td>\n",
       "      <td>30</td>\n",
       "      <td>18</td>\n",
       "    </tr>\n",
       "  </tbody>\n",
       "</table>\n",
       "</div>"
      ],
      "text/plain": [
       "      Stay_In_Current_City_Years  Age  Occupation\n",
       "4967                           0   21           4\n",
       "1071                           0   30          12\n",
       "718                            3   30           7\n",
       "5308                           1   53           1\n",
       "670                            4   30          18"
      ]
     },
     "execution_count": 119,
     "metadata": {},
     "output_type": "execute_result"
    }
   ],
   "source": [
    "xtrain[:5]"
   ]
  },
  {
   "cell_type": "code",
   "execution_count": 120,
   "id": "79d01336-449a-415a-8d04-4621a1f93757",
   "metadata": {},
   "outputs": [
    {
     "data": {
      "text/plain": [
       "4967     208790\n",
       "1071    1186426\n",
       "718      203258\n",
       "5308    1279586\n",
       "670      847538\n",
       "Name: Purchase, dtype: int64"
      ]
     },
     "execution_count": 120,
     "metadata": {},
     "output_type": "execute_result"
    }
   ],
   "source": [
    "ytrain[:5]"
   ]
  },
  {
   "cell_type": "code",
   "execution_count": 121,
   "id": "4be3f4b7-03fb-41db-bdbb-97afac07a85b",
   "metadata": {},
   "outputs": [
    {
     "data": {
      "text/plain": [
       "(4538, 3)"
      ]
     },
     "execution_count": 121,
     "metadata": {},
     "output_type": "execute_result"
    }
   ],
   "source": [
    "xtrain.shape"
   ]
  },
  {
   "cell_type": "code",
   "execution_count": 134,
   "id": "fa9e5d45-1b47-4bf2-bb25-c90bb3ad4d6e",
   "metadata": {},
   "outputs": [],
   "source": [
    "R = RandomForestRegressor()"
   ]
  },
  {
   "cell_type": "code",
   "execution_count": 135,
   "id": "76f6fe96-b6a9-4e8c-b0a2-6541d2d7dd81",
   "metadata": {},
   "outputs": [],
   "source": [
    "model1 = R.fit(xtrain,ytrain)"
   ]
  },
  {
   "cell_type": "code",
   "execution_count": 136,
   "id": "972ec52b-1727-4be7-9262-bcab401dbf6e",
   "metadata": {},
   "outputs": [],
   "source": [
    "Pred1 = model.predict(xtest)"
   ]
  },
  {
   "cell_type": "code",
   "execution_count": 137,
   "id": "ad305c39-8f68-4b3f-8e55-602bfc3b4c5d",
   "metadata": {},
   "outputs": [],
   "source": [
    "error1 = mean_absolute_error(ytest,Pred)"
   ]
  },
  {
   "cell_type": "code",
   "execution_count": 138,
   "id": "ae1d7456-6d09-4ab1-89bd-bbc7ecce60a0",
   "metadata": {},
   "outputs": [
    {
     "data": {
      "text/plain": [
       "686936.3925182202"
      ]
     },
     "execution_count": 138,
     "metadata": {},
     "output_type": "execute_result"
    }
   ],
   "source": [
    "error1"
   ]
  },
  {
   "cell_type": "code",
   "execution_count": 139,
   "id": "2a13b036-e30b-458d-a42e-2dc265d9e20d",
   "metadata": {},
   "outputs": [
    {
     "data": {
      "text/plain": [
       "-0.10982499400578072"
      ]
     },
     "execution_count": 139,
     "metadata": {},
     "output_type": "execute_result"
    }
   ],
   "source": [
    "r2_score(ytest,Pred1)"
   ]
  },
  {
   "cell_type": "code",
   "execution_count": 133,
   "id": "48b4b8df-9bf6-46c0-a931-1be7d3588418",
   "metadata": {},
   "outputs": [],
   "source": [
    "from sklearn.svm import SVR\n",
    "regressor = SVR(kernel='rbf')"
   ]
  },
  {
   "cell_type": "code",
   "execution_count": 141,
   "id": "e5bb854c-0f79-48f5-b2c0-0d2848cef197",
   "metadata": {},
   "outputs": [],
   "source": [
    "model2 = regressor.fit(xtrain,ytrain)"
   ]
  },
  {
   "cell_type": "code",
   "execution_count": 142,
   "id": "be3263f4-556b-4c65-988e-2b0e269c3590",
   "metadata": {},
   "outputs": [],
   "source": [
    "Pred2 = model1.predict(xtest)"
   ]
  },
  {
   "cell_type": "code",
   "execution_count": 143,
   "id": "aa3fd359-25d9-4c22-95f4-39db6d6b4b4a",
   "metadata": {},
   "outputs": [
    {
     "data": {
      "text/plain": [
       "584855.1207914123"
      ]
     },
     "execution_count": 143,
     "metadata": {},
     "output_type": "execute_result"
    }
   ],
   "source": [
    "mean_absolute_error(ytest,Pred2)"
   ]
  },
  {
   "cell_type": "code",
   "execution_count": 144,
   "id": "ef5d199f-f180-4e3e-9742-c58d37eff02e",
   "metadata": {},
   "outputs": [
    {
     "data": {
      "text/plain": [
       "-0.141152516519212"
      ]
     },
     "execution_count": 144,
     "metadata": {},
     "output_type": "execute_result"
    }
   ],
   "source": [
    "r2_score(ytest,Pred2)"
   ]
  },
  {
   "cell_type": "code",
   "execution_count": 145,
   "id": "12dee37f-3d8e-48a6-8b7a-a084ad2c3183",
   "metadata": {},
   "outputs": [],
   "source": [
    "from sklearn.tree import DecisionTreeRegressor"
   ]
  },
  {
   "cell_type": "code",
   "execution_count": 147,
   "id": "67a28e03-a699-42c2-868c-ae018515debd",
   "metadata": {},
   "outputs": [],
   "source": [
    "dt = DecisionTreeRegressor(min_samples_leaf=5,min_samples_split=5,max_depth=10,max_features=5,random_state=42)"
   ]
  },
  {
   "cell_type": "code",
   "execution_count": 148,
   "id": "0ac9b27f-52a4-418f-b8c2-9466780e05e4",
   "metadata": {},
   "outputs": [],
   "source": [
    "model3 = dt.fit(xtrain,ytrain)"
   ]
  },
  {
   "cell_type": "code",
   "execution_count": 149,
   "id": "9b1e517d-2785-447e-b49d-9a2c7a742895",
   "metadata": {},
   "outputs": [],
   "source": [
    "Pred3 = model3.predict(xtest)"
   ]
  },
  {
   "cell_type": "code",
   "execution_count": 150,
   "id": "c6b090c1-9d24-4ae5-8443-030fe4131036",
   "metadata": {},
   "outputs": [
    {
     "data": {
      "text/plain": [
       "669446.830040919"
      ]
     },
     "execution_count": 150,
     "metadata": {},
     "output_type": "execute_result"
    }
   ],
   "source": [
    "mean_absolute_error(ytest,Pred3)"
   ]
  },
  {
   "cell_type": "code",
   "execution_count": 151,
   "id": "3b56407f-d36b-4ab5-99af-b214e74b38ac",
   "metadata": {},
   "outputs": [
    {
     "data": {
      "text/plain": [
       "-0.059948088997879845"
      ]
     },
     "execution_count": 151,
     "metadata": {},
     "output_type": "execute_result"
    }
   ],
   "source": [
    "r2_score(ytest,Pred3)"
   ]
  },
  {
   "cell_type": "code",
   "execution_count": null,
   "id": "ca82b549-e21f-4c0a-bf77-28048e46f699",
   "metadata": {},
   "outputs": [],
   "source": []
  }
 ],
 "metadata": {
  "kernelspec": {
   "display_name": "Python 3 (ipykernel)",
   "language": "python",
   "name": "python3"
  },
  "language_info": {
   "codemirror_mode": {
    "name": "ipython",
    "version": 3
   },
   "file_extension": ".py",
   "mimetype": "text/x-python",
   "name": "python",
   "nbconvert_exporter": "python",
   "pygments_lexer": "ipython3",
   "version": "3.12.4"
  }
 },
 "nbformat": 4,
 "nbformat_minor": 5
}
